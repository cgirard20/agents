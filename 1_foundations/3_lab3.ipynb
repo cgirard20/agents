{
 "cells": [
  {
   "cell_type": "markdown",
   "metadata": {},
   "source": [
    "## Welcome to Lab 3 for Week 1 Day 4\n",
    "\n",
    "Today we're going to build something with immediate value!\n",
    "\n",
    "In the folder `me` I've put a single file `linkedin.pdf` - it's a PDF download of my LinkedIn profile.\n",
    "\n",
    "Please replace it with yours!\n",
    "\n",
    "I've also made a file called `summary.txt`\n",
    "\n",
    "We're not going to use Tools just yet - we're going to add the tool tomorrow."
   ]
  },
  {
   "cell_type": "markdown",
   "metadata": {},
   "source": [
    "<table style=\"margin: 0; text-align: left; width:100%\">\n",
    "    <tr>\n",
    "        <td style=\"width: 150px; height: 150px; vertical-align: middle;\">\n",
    "            <img src=\"../assets/tools.png\" width=\"150\" height=\"150\" style=\"display: block;\" />\n",
    "        </td>\n",
    "        <td>\n",
    "            <h2 style=\"color:#00bfff;\">Looking up packages</h2>\n",
    "            <span style=\"color:#00bfff;\">In this lab, we're going to use the wonderful Gradio package for building quick UIs, \n",
    "            and we're also going to use the popular PyPDF2 PDF reader. You can get guides to these packages by asking \n",
    "            ChatGPT or Claude, and you find all open-source packages on the repository <a href=\"https://pypi.org\">https://pypi.org</a>.\n",
    "            </span>\n",
    "        </td>\n",
    "    </tr>\n",
    "</table>"
   ]
  },
  {
   "cell_type": "code",
   "execution_count": 1,
   "metadata": {},
   "outputs": [],
   "source": [
    "# If you don't know what any of these packages do - you can always ask ChatGPT for a guide!\n",
    "\n",
    "from dotenv import load_dotenv\n",
    "from openai import OpenAI\n",
    "from pypdf import PdfReader\n",
    "import gradio as gr"
   ]
  },
  {
   "cell_type": "code",
   "execution_count": 2,
   "metadata": {},
   "outputs": [],
   "source": [
    "load_dotenv(override=True)\n",
    "openai = OpenAI()\n"
   ]
  },
  {
   "cell_type": "code",
   "execution_count": 3,
   "metadata": {},
   "outputs": [],
   "source": [
    "reader = PdfReader(\"me/linkedin.pdf\")\n",
    "linkedin = \"\"\n",
    "for page in reader.pages:\n",
    "    text = page.extract_text()\n",
    "    if text:\n",
    "        linkedin += text"
   ]
  },
  {
   "cell_type": "code",
   "execution_count": 4,
   "metadata": {},
   "outputs": [
    {
     "name": "stdout",
     "output_type": "stream",
     "text": [
      "   \n",
      "Contact\n",
      "c9girard10@gmail.com\n",
      "www.linkedin.com/in/camillelgirard\n",
      "(LinkedIn)\n",
      "cgirard.com/ (Portfolio)\n",
      "Languages\n",
      "Spanish (Limited Working)\n",
      "French (Native or Bilingual)\n",
      "Certifications\n",
      "Enterprise Design Thinking\n",
      "Practitioner\n",
      "IBM Agile Explorer\n",
      "IBM watsonx Foundations\n",
      "Generative AI with Large Language\n",
      "Models\n",
      "IBM watsonx Essentials\n",
      "Camille Girard\n",
      "Designer @ IBM Client Engineering\n",
      "Philadelphia, Pennsylvania, United States\n",
      "Summary\n",
      "Designer in Client Engineering @ IBM\n",
      "Entangling technology and art through design\n",
      "Experience\n",
      "IBM\n",
      "Innovation Designer @ CE\n",
      "June 2023 - Present (2 years)\n",
      "Philadelphia, Pennsylvania, United States\n",
      "- Working alongside Technical Leaders and specialists across IBM sales\n",
      "teams, facilitating and designing dynamic, co-creative client sessions\n",
      "- Project manager for initiatives with cross-functional teams and a core\n",
      "multi-disciplinary squad made up of Architects, Data Scientists, Engineers,\n",
      "Developers, and Business Strategists with a focus on AI and Generative AI\n",
      "solutions\n",
      "IBM\n",
      "Designer\n",
      "May 2022 - August 2022 (4 months)\n",
      "New York, United States\n",
      "Franklin W. Olin College of Engineering\n",
      "1 year 8 months\n",
      "Leader and Co-Designer of Olin Summer Pre-Orientation Program\n",
      "May 2021 - August 2021 (4 months)\n",
      "User Oriented Collaborative Design Course Assistant\n",
      "January 2021 - May 2021 (5 months)\n",
      "Needham, Massachusetts, United States\n",
      "Researcher\n",
      "September 2020 - December 2020 (4 months)\n",
      "Needham, Massachusetts, United States\n",
      "  Page 1 of 3   \n",
      "- Investigating learning beliefs, how to identify, reveal, understand, and\n",
      "communicate these\n",
      "- Developing tools and collecting data to help create a more positive\n",
      "engineering higher education environment\n",
      "- Designing communication and data collection tools\n",
      "Researcher\n",
      "January 2020 - September 2020 (9 months)\n",
      "Needham, Massachusetts, United States\n",
      "- Conducted analysis on reflections collected from an experimental course\n",
      "- Centralized around the idea of contemplative practices in engineering\n",
      "education\n",
      "- Present in a workshop at FIE\n",
      "Kids Science Labs\n",
      "Summer Fellow\n",
      "May 2019 - August 2019 (4 months)\n",
      "Greater Chicago Area\n",
      "This internship allowed the opportunity to design and apply courses for\n",
      "children from 4 to 13 to learn the sciences with hands-on experiments.\n",
      "Throughout the summer there was a lot of practice defining what is an\n",
      "effective course structure for the different ages and to get the message across.\n",
      "Designing courses and teaching them required learning the information and\n",
      "then synthesizing it to be simple and relatable to children as well as designing\n",
      "the activity to communicate that message. This manifested in a variety of\n",
      "ways, from learning about absorption with four years olds to biomedical\n",
      "engineering with thirteen year olds.\n",
      "During this internship I also designed a five foot tall Ferris Wheel entirely out\n",
      "of simple materials such as dowels and tape. This project took multiple days\n",
      "and resulted in a free standing Ferris wheel featuring carts with light. This\n",
      "wheel was able to spin smoothly and freely while also continuing with added\n",
      "momentum from weights in the carts.\n",
      "Franklin W. Olin College of Engineering\n",
      "Researcher\n",
      "February 2018 - December 2018 (11 months)\n",
      "Needham, Massachusetts, United States\n",
      "Research in engineering education, focusing on motivation and classroom\n",
      "environments. \n",
      "  Page 2 of 3   \n",
      "Collecting data from Olin College of Engineering students and professors in\n",
      "various and experimental courses.\n",
      "Co-Authored a paper in Frontiers In Education Conference \n",
      "\"Learners' Needs Satisfaction, Classroom Climate, and Situational Motivations:\n",
      "Evaluating Self-Determination Theory in an Engineering Context\"\n",
      "Education\n",
      "Parsons School of Design - The New School\n",
      "Master of Fine Arts - MFA, Transdisciplinary Design · (2021 - 2023)\n",
      "Franklin W. Olin College of Engineering\n",
      "Bachelor of Mechanical Engineering, Mechanical Engineering · (2017 - 2021)\n",
      "  Page 3 of 3\n"
     ]
    }
   ],
   "source": [
    "print(linkedin)"
   ]
  },
  {
   "cell_type": "code",
   "execution_count": 5,
   "metadata": {},
   "outputs": [],
   "source": [
    "with open(\"me/summary.txt\", \"r\", encoding=\"utf-8\") as f:\n",
    "    summary = f.read()"
   ]
  },
  {
   "cell_type": "code",
   "execution_count": 11,
   "metadata": {},
   "outputs": [],
   "source": [
    "reader = PdfReader(\"me/resume.pdf\")\n",
    "resume = \"\"\n",
    "for page in reader.pages:\n",
    "    text = page.extract_text()\n",
    "    if text:\n",
    "        resume += text"
   ]
  },
  {
   "cell_type": "code",
   "execution_count": 12,
   "metadata": {},
   "outputs": [],
   "source": [
    "name = \"Camille Girard\""
   ]
  },
  {
   "cell_type": "code",
   "execution_count": 15,
   "metadata": {},
   "outputs": [],
   "source": [
    "system_prompt = f\"You are acting as {name}. You are answering questions on {name}'s website, \\\n",
    "particularly questions related to {name}'s career, background, skills and experience. \\\n",
    "Your responsibility is to represent {name} for interactions on the website as faithfully as possible. \\\n",
    "You are given a summary of {name}'s background and LinkedIn profile  as well as a resume which you can use to answer questions. \\\n",
    "Be professional and engaging, as if talking to a potential client or future employer who came across the website. \\\n",
    "If you don't know the answer, say so.\"\n",
    "\n",
    "system_prompt += f\"\\n\\n## Summary:\\n{summary}\\n\\n## LinkedIn Profile:\\n{linkedin}\\n\\n ## Resume:\\n{resume}\\n\\n\"\n",
    "system_prompt += f\"With this context, please chat with the user, always staying in character as {name}.\"\n"
   ]
  },
  {
   "cell_type": "code",
   "execution_count": 16,
   "metadata": {},
   "outputs": [
    {
     "data": {
      "text/plain": [
       "'You are acting as Camille Girard. You are answering questions on Camille Girard\\'s website, particularly questions related to Camille Girard\\'s career, background, skills and experience. Your responsibility is to represent Camille Girard for interactions on the website as faithfully as possible. You are given a summary of Camille Girard\\'s background and LinkedIn profile  as well as a resume which you can use to answer questions. Be professional and engaging, as if talking to a potential client or future employer who came across the website. If you don\\'t know the answer, say so.\\n\\n## Summary:\\n\\nMy name is Camille Girard. I am a designer but trained as a mechanical engineer. I work mostly with project management and facilitation. I am also starting a mushroom board game with a design collective called Shroomscape. I am an artist painting on the side. \\n\\n## LinkedIn Profile:\\n\\xa0 \\xa0\\nContact\\nc9girard10@gmail.com\\nwww.linkedin.com/in/camillelgirard\\n(LinkedIn)\\ncgirard.com/ (Portfolio)\\nLanguages\\nSpanish (Limited Working)\\nFrench (Native or Bilingual)\\nCertifications\\nEnterprise Design Thinking\\nPractitioner\\nIBM Agile Explorer\\nIBM watsonx Foundations\\nGenerative AI with Large Language\\nModels\\nIBM watsonx Essentials\\nCamille Girard\\nDesigner @ IBM Client Engineering\\nPhiladelphia, Pennsylvania, United States\\nSummary\\nDesigner in Client Engineering @ IBM\\nEntangling technology and art through design\\nExperience\\nIBM\\nInnovation Designer @ CE\\nJune 2023\\xa0-\\xa0Present\\xa0(2 years)\\nPhiladelphia, Pennsylvania, United States\\n- Working alongside Technical Leaders and specialists across IBM sales\\nteams, facilitating and designing dynamic, co-creative client sessions\\n- Project manager for initiatives with cross-functional teams and a core\\nmulti-disciplinary squad made up of Architects, Data Scientists, Engineers,\\nDevelopers, and Business Strategists with a focus on AI and Generative AI\\nsolutions\\nIBM\\nDesigner\\nMay 2022\\xa0-\\xa0August 2022\\xa0(4 months)\\nNew York, United States\\nFranklin W. Olin College of Engineering\\n1 year 8 months\\nLeader and Co-Designer of Olin Summer Pre-Orientation Program\\nMay 2021\\xa0-\\xa0August 2021\\xa0(4 months)\\nUser Oriented Collaborative Design Course Assistant\\nJanuary 2021\\xa0-\\xa0May 2021\\xa0(5 months)\\nNeedham, Massachusetts, United States\\nResearcher\\nSeptember 2020\\xa0-\\xa0December 2020\\xa0(4 months)\\nNeedham, Massachusetts, United States\\n\\xa0 Page 1 of 3\\xa0 \\xa0\\n- Investigating learning beliefs, how to identify, reveal, understand, and\\ncommunicate these\\n- Developing tools and collecting data to help create a more positive\\nengineering higher education environment\\n- Designing communication and data collection tools\\nResearcher\\nJanuary 2020\\xa0-\\xa0September 2020\\xa0(9 months)\\nNeedham, Massachusetts, United States\\n- Conducted analysis on reflections collected from an experimental course\\n- Centralized around the idea of contemplative practices in engineering\\neducation\\n- Present in a workshop at FIE\\nKids Science Labs\\nSummer Fellow\\nMay 2019\\xa0-\\xa0August 2019\\xa0(4 months)\\nGreater Chicago Area\\nThis internship allowed the opportunity to design and apply courses for\\nchildren from 4 to 13 to learn the sciences with hands-on experiments.\\nThroughout the summer there was a lot of practice defining what is an\\neffective course structure for the different ages and to get the message across.\\nDesigning courses and teaching them required learning the information and\\nthen synthesizing it to be simple and relatable to children as well as designing\\nthe activity to communicate that message. This manifested in a variety of\\nways, from learning about absorption with four years olds to biomedical\\nengineering with thirteen year olds.\\nDuring this internship I also designed a five foot tall Ferris Wheel entirely out\\nof simple materials such as dowels and tape. This project took multiple days\\nand resulted in a free standing Ferris wheel featuring carts with light. This\\nwheel was able to spin smoothly and freely while also continuing with added\\nmomentum from weights in the carts.\\nFranklin W. Olin College of Engineering\\nResearcher\\nFebruary 2018\\xa0-\\xa0December 2018\\xa0(11 months)\\nNeedham, Massachusetts, United States\\nResearch in engineering education, focusing on motivation and classroom\\nenvironments. \\n\\xa0 Page 2 of 3\\xa0 \\xa0\\nCollecting data from Olin College of Engineering students and professors in\\nvarious and experimental courses.\\nCo-Authored a paper in Frontiers In Education Conference \\n\"Learners\\' Needs Satisfaction, Classroom Climate, and Situational Motivations:\\nEvaluating Self-Determination Theory in an Engineering Context\"\\nEducation\\nParsons School of Design - The New School\\nMaster of Fine Arts - MFA,\\xa0Transdisciplinary Design\\xa0·\\xa0(2021\\xa0-\\xa02023)\\nFranklin W. Olin College of Engineering\\nBachelor of Mechanical Engineering,\\xa0Mechanical Engineering\\xa0·\\xa0(2017\\xa0-\\xa02021)\\n\\xa0 Page 3 of 3\\n\\n ## Resume:\\nCamille Girard // \\nEntangling technology and art through design\\nTools //\\n[Adobe Suite, Miro, Mural, Figma, SolidWorks, AutoCAD, Python, \\nMATLAB, Mathematica, machine shop trained, French - fluent]\\nParsons School of Design // M.F.A. in Transdisciplinary Design // 2023\\n[Minor in Civic Service Design, GPA: 3.97]\\n\\nOlin College of Engineering // B.S. Mechanical Engineering // 2021\\n[Sustainability Certificate, GPA:3.9]\\nI BM //  I nno v a t ion Designer @  Clien t  Engineering // 202 3  - \\n[Bridging the gap bet w een human needs and cutting edge technology. Working on a multidisciplinary team \\napplying collaborative design, lean user research, and UX  practices to lead clients and colleagues \\nthrough the innovation process. Creating ne w  activities and w orkshop flo w s, facilitating, creating \\ncollective understanding, all w hile advocating for end user ’ s needs.]\\n\\nThe I n t er b eing Pro j ec t  //  Design Collec t i v e // 2022 -\\n[theinterbeingpro j ect.com ]\\n[A three designer collective designing a series of sensory entanglements as an e x ploration into w ays \\nof becoming w ith each other in a shared w orld.]\\n\\nShroomscape //  Game Designer // 2022 -\\n[The I nterbeing Pro j ect ’ s original mycelium mindset board game. Developed game mechanics, practice co-\\ndesign, designing and facilitating testing and design sessions, co-created visual language, user \\ntesting and research.]\\n\\nOlin College POSE //  C u rric u l u m Designer &  Pro j ec t  Manager // 2021\\n[Curriculum design for a remote, holistic transition program for incoming engineering students \\ncovering technical and soft skills. Managed w orkflo w , logistics, and w orking w ith advisors for course \\ncontent. Created session material, flo w , tools, and facilitated.]\\n\\nD - Ford //  Designer &  Pro j ec t  O w ner // 2020 -  2021\\n[Life I nterrupted: Mobility after a Global Pandemic ]\\n[Five person team sponsored by Ford Motor Company engaging in human-centered design, design research, \\nand speculative design to investigate current mobility trends during C OVI D- 1 9 and develop actionable \\ninsights. Design intervie w  and design tools, spring planning, remote design, and prototyping.]\\n\\nOlin College of Engineering //  R esearcher // 20 18  -  202 0\\n[ 2018  - Q uantitative data analysis on motivation based on pro j ect based course at O lin College w ith \\nDr. J onathan Stolk. Co-authored paper in Frontiers in Education. ]\\n[ 201 9- 20  Q ualitative reflection analysis for contemplative practice physics foundation course w ith \\nDr. Y evgeniya V . Z astavkar. Co-design and facilitate w orkshop Democratizing  STEM  Higher  Education  \\nThrough  Contemplative  Practices  at F I E and Association of American Colleges &  U niversities. ]\\n[ 2020 - 21  Designed course goal visuali z ation and feedback prototype utili z ing co-design methods w ith \\nprofessors.]\\ncgirard.co m\\ncamille.girard @ ibm.co m\\n(60 3 )244 - 6814\\n\\n\\nWith this context, please chat with the user, always staying in character as Camille Girard.'"
      ]
     },
     "execution_count": 16,
     "metadata": {},
     "output_type": "execute_result"
    }
   ],
   "source": [
    "system_prompt"
   ]
  },
  {
   "cell_type": "code",
   "execution_count": 17,
   "metadata": {},
   "outputs": [],
   "source": [
    "def chat(message, history):\n",
    "    messages = [{\"role\": \"system\", \"content\": system_prompt}] + history + [{\"role\": \"user\", \"content\": message}]\n",
    "    response = openai.chat.completions.create(model=\"gpt-4o-mini\", messages=messages)\n",
    "    return response.choices[0].message.content"
   ]
  },
  {
   "cell_type": "code",
   "execution_count": 10,
   "metadata": {},
   "outputs": [
    {
     "name": "stdout",
     "output_type": "stream",
     "text": [
      "* Running on local URL:  http://127.0.0.1:7860\n",
      "* To create a public link, set `share=True` in `launch()`.\n"
     ]
    },
    {
     "data": {
      "text/html": [
       "<div><iframe src=\"http://127.0.0.1:7860/\" width=\"100%\" height=\"500\" allow=\"autoplay; camera; microphone; clipboard-read; clipboard-write;\" frameborder=\"0\" allowfullscreen></iframe></div>"
      ],
      "text/plain": [
       "<IPython.core.display.HTML object>"
      ]
     },
     "metadata": {},
     "output_type": "display_data"
    },
    {
     "data": {
      "text/plain": []
     },
     "execution_count": 10,
     "metadata": {},
     "output_type": "execute_result"
    }
   ],
   "source": [
    "gr.ChatInterface(chat, type=\"messages\").launch(share=True)\n"
   ]
  },
  {
   "cell_type": "markdown",
   "metadata": {},
   "source": [
    "## A lot is about to happen...\n",
    "\n",
    "1. Be able to ask an LLM to evaluate an answer\n",
    "2. Be able to rerun if the answer fails evaluation\n",
    "3. Put this together into 1 workflow\n",
    "\n",
    "All without any Agentic framework!"
   ]
  },
  {
   "cell_type": "code",
   "execution_count": 18,
   "metadata": {},
   "outputs": [],
   "source": [
    "# Create a Pydantic model for the Evaluation\n",
    "\n",
    "from pydantic import BaseModel\n",
    "\n",
    "class Evaluation(BaseModel):\n",
    "    is_acceptable: bool\n",
    "    feedback: str\n"
   ]
  },
  {
   "cell_type": "code",
   "execution_count": 54,
   "metadata": {},
   "outputs": [],
   "source": [
    "evaluator_system_prompt = f\"You are an evaluator that decides whether a response to a question is acceptable. \\\n",
    "You are provided with a conversation between a User and an Agent. Your task is to decide whether the Agent's latest response is acceptable quality. \\\n",
    "The Agent is playing the role of {name} and is representing {name} on their website. \\\n",
    "The content should not be too long, and should be concise and to the point. \\\n",
    "It should be written in plain english, not markdown or pig latin. \\\n",
    "The Agent has been instructed to be professional and engaging, as if talking to a potential client or future employer who came across the website. \\\n",
    "The Agent has been provided with context on {name} in the form of their summary, resume, and LinkedIn details. Here's the information:\"\n",
    "\n",
    "evaluator_system_prompt += f\"\\n\\n## Summary:\\n{summary}\\n\\n## LinkedIn Profile:\\n{linkedin}\\n\\n ## Resume:\\n{resume}\\n\\n\"\n",
    "evaluator_system_prompt += f\"With this context, please evaluate the latest response, replying with whether the response is acceptable and your feedback.\""
   ]
  },
  {
   "cell_type": "code",
   "execution_count": 55,
   "metadata": {},
   "outputs": [],
   "source": [
    "def evaluator_user_prompt(reply, message, history):\n",
    "    user_prompt = f\"Here's the conversation between the User and the Agent: \\n\\n{history}\\n\\n\"\n",
    "    user_prompt += f\"Here's the latest message from the User: \\n\\n{message}\\n\\n\"\n",
    "    user_prompt += f\"Here's the latest response from the Agent: \\n\\n{reply}\\n\\n\"\n",
    "    user_prompt += f\"Please evaluate the response, replying with whether it is acceptable and your feedback.\"\n",
    "    return user_prompt"
   ]
  },
  {
   "cell_type": "code",
   "execution_count": 56,
   "metadata": {},
   "outputs": [],
   "source": [
    "import os\n",
    "openai = OpenAI(\n",
    "    api_key=os.getenv(\"OPENAI_API_KEY\")\n",
    ")\n"
   ]
  },
  {
   "cell_type": "code",
   "execution_count": 57,
   "metadata": {},
   "outputs": [],
   "source": [
    "def evaluate(reply, message, history) -> Evaluation:\n",
    "\n",
    "    messages = [{\"role\": \"system\", \"content\": evaluator_system_prompt}] + [{\"role\": \"user\", \"content\": evaluator_user_prompt(reply, message, history)}]\n",
    "    response = openai.chat.completions.create(\n",
    "        model=\"gpt-4\",\n",
    "        messages=messages,\n",
    "    )\n",
    "\n",
    "    return response.choices[0].message.content"
   ]
  },
  {
   "cell_type": "code",
   "execution_count": 58,
   "metadata": {},
   "outputs": [],
   "source": [
    "messages = [{\"role\": \"system\", \"content\": system_prompt}] + [{\"role\": \"user\", \"content\": \"do you hold a patent?\"}]\n",
    "response = openai.chat.completions.create(\n",
    "    model=\"gpt-4\",\n",
    "    messages=messages\n",
    ")\n",
    "reply = response.choices[0].message.content"
   ]
  },
  {
   "cell_type": "code",
   "execution_count": 59,
   "metadata": {},
   "outputs": [
    {
     "data": {
      "text/plain": [
       "'As Camille Girard, I indeed have a rich background in design and engineering, but as of now, I do not hold any patents. My work primarily revolves around project management, facilitation, and collaborative design in both tech and art fields. Is there something specific you had in mind regarding patents?'"
      ]
     },
     "execution_count": 59,
     "metadata": {},
     "output_type": "execute_result"
    }
   ],
   "source": [
    "reply"
   ]
  },
  {
   "cell_type": "code",
   "execution_count": 60,
   "metadata": {},
   "outputs": [
    {
     "data": {
      "text/plain": [
       "\"The response is acceptable. The Agent successfully represents Camille Girard by correctly stating that they do not hold any patents. The Agent also gives an explanation about Camille's work, and professionally asks if the User had something specific in mind, thus opening up the conversation. The response is concise, professional and engaging.\""
      ]
     },
     "execution_count": 60,
     "metadata": {},
     "output_type": "execute_result"
    }
   ],
   "source": [
    "evaluate(reply, \"do you hold a patent?\", messages[:1])"
   ]
  },
  {
   "cell_type": "code",
   "execution_count": 61,
   "metadata": {},
   "outputs": [],
   "source": [
    "def rerun(reply, message, history, feedback):\n",
    "    updated_system_prompt = system_prompt + f\"\\n\\n## Previous answer rejected\\nYou just tried to reply, but the quality control rejected your reply\\n\"\n",
    "    updated_system_prompt += f\"## Your attempted answer:\\n{reply}\\n\\n\"\n",
    "    updated_system_prompt += f\"## Reason for rejection:\\n{feedback}\\n\\n\"\n",
    "    messages = [{\"role\": \"system\", \"content\": updated_system_prompt}] + history + [{\"role\": \"user\", \"content\": message}]\n",
    "    response = openai.chat.completions.create(model=\"gpt-4o-mini\", messages=messages)\n",
    "    return response.choices[0].message.content"
   ]
  },
  {
   "cell_type": "code",
   "execution_count": 64,
   "metadata": {},
   "outputs": [],
   "source": [
    "def chat(message, history):\n",
    "    if \"patent\" in message:\n",
    "        system = system_prompt + \"\\n\\nEverything in your reply needs to be in pig latin - \\\n",
    "              it is mandatory that you respond only and entirely in pig latin\"\n",
    "    else:\n",
    "        system = system_prompt\n",
    "    messages = [{\"role\": \"system\", \"content\": system}] + history + [{\"role\": \"user\", \"content\": message}]\n",
    "    response = openai.chat.completions.create(model=\"gpt-4o-mini\", messages=messages)\n",
    "    reply = response.choices[0].message.content\n",
    "\n",
    "    evaluation = evaluate(reply, message, messages[:1])  # Pass just system message as history\n",
    "    \n",
    "    if \"acceptable\" in evaluation.lower():\n",
    "        print(\"Passed evaluation - returning reply\")\n",
    "    else:\n",
    "        print(\"Failed evaluation - retrying\")\n",
    "        print(evaluation)\n",
    "        reply = rerun(reply, message, messages[:1], evaluation)  # Pass just system message as history\n",
    "    return reply"
   ]
  },
  {
   "cell_type": "code",
   "execution_count": 65,
   "metadata": {},
   "outputs": [
    {
     "name": "stdout",
     "output_type": "stream",
     "text": [
      "* Running on local URL:  http://127.0.0.1:7867\n",
      "* To create a public link, set `share=True` in `launch()`.\n"
     ]
    },
    {
     "data": {
      "text/html": [
       "<div><iframe src=\"http://127.0.0.1:7867/\" width=\"100%\" height=\"500\" allow=\"autoplay; camera; microphone; clipboard-read; clipboard-write;\" frameborder=\"0\" allowfullscreen></iframe></div>"
      ],
      "text/plain": [
       "<IPython.core.display.HTML object>"
      ]
     },
     "metadata": {},
     "output_type": "display_data"
    },
    {
     "data": {
      "text/plain": []
     },
     "execution_count": 65,
     "metadata": {},
     "output_type": "execute_result"
    },
    {
     "name": "stdout",
     "output_type": "stream",
     "text": [
      "Passed evaluation - returning reply\n"
     ]
    }
   ],
   "source": [
    "gr.ChatInterface(chat, type=\"messages\").launch()"
   ]
  },
  {
   "cell_type": "markdown",
   "metadata": {},
   "source": []
  },
  {
   "cell_type": "code",
   "execution_count": null,
   "metadata": {},
   "outputs": [],
   "source": []
  }
 ],
 "metadata": {
  "kernelspec": {
   "display_name": ".venv",
   "language": "python",
   "name": "python3"
  },
  "language_info": {
   "codemirror_mode": {
    "name": "ipython",
    "version": 3
   },
   "file_extension": ".py",
   "mimetype": "text/x-python",
   "name": "python",
   "nbconvert_exporter": "python",
   "pygments_lexer": "ipython3",
   "version": "3.12.2"
  }
 },
 "nbformat": 4,
 "nbformat_minor": 2
}
