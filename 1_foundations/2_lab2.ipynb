{
 "cells": [
  {
   "cell_type": "markdown",
   "metadata": {},
   "source": [
    "## Welcome to the Second Lab - Week 1, Day 3\n",
    "\n",
    "Today we will work with lots of models! This is a way to get comfortable with APIs."
   ]
  },
  {
   "cell_type": "markdown",
   "metadata": {},
   "source": [
    "<table style=\"margin: 0; text-align: left; width:100%\">\n",
    "    <tr>\n",
    "        <td style=\"width: 150px; height: 150px; vertical-align: middle;\">\n",
    "            <img src=\"../assets/stop.png\" width=\"150\" height=\"150\" style=\"display: block;\" />\n",
    "        </td>\n",
    "        <td>\n",
    "            <h2 style=\"color:#ff7800;\">Important point - please read</h2>\n",
    "            <span style=\"color:#ff7800;\">The way I collaborate with you may be different to other courses you've taken. I prefer not to type code while you watch. Rather, I execute Jupyter Labs, like this, and give you an intuition for what's going on. My suggestion is that you carefully execute this yourself, <b>after</b> watching the lecture. Add print statements to understand what's going on, and then come up with your own variations.<br/><br/>If you have time, I'd love it if you submit a PR for changes in the community_contributions folder - instructions in the resources. Also, if you have a Github account, use this to showcase your variations. Not only is this essential practice, but it demonstrates your skills to others, including perhaps future clients or employers...\n",
    "            </span>\n",
    "        </td>\n",
    "    </tr>\n",
    "</table>"
   ]
  },
  {
   "cell_type": "code",
   "execution_count": 43,
   "metadata": {},
   "outputs": [],
   "source": [
    "# Start with imports - ask ChatGPT to explain any package that you don't know\n",
    "\n",
    "import os\n",
    "import json\n",
    "from dotenv import load_dotenv\n",
    "from openai import OpenAI\n",
    "from anthropic import Anthropic\n",
    "from IPython.display import Markdown, display"
   ]
  },
  {
   "cell_type": "code",
   "execution_count": 44,
   "metadata": {},
   "outputs": [
    {
     "data": {
      "text/plain": [
       "True"
      ]
     },
     "execution_count": 44,
     "metadata": {},
     "output_type": "execute_result"
    }
   ],
   "source": [
    "# Always remember to do this!\n",
    "load_dotenv(override=True)\n"
   ]
  },
  {
   "cell_type": "code",
   "execution_count": 45,
   "metadata": {},
   "outputs": [
    {
     "name": "stdout",
     "output_type": "stream",
     "text": [
      "OpenAI API Key exists and begins sk-proj-\n",
      "Anthropic API Key exists and begins sk-ant-\n",
      "Google API Key not set (and this is optional)\n",
      "DeepSeek API Key not set (and this is optional)\n",
      "Groq API Key exists and begins gsk_\n"
     ]
    }
   ],
   "source": [
    "# Print the key prefixes to help with any debugging\n",
    "\n",
    "openai_api_key = os.getenv('OPENAI_API_KEY')\n",
    "anthropic_api_key = os.getenv('ANTHROPIC_API_KEY')\n",
    "google_api_key = os.getenv('GOOGLE_API_KEY')\n",
    "deepseek_api_key = os.getenv('DEEPSEEK_API_KEY')\n",
    "groq_api_key = os.getenv('GROQ_API_KEY')\n",
    "\n",
    "\n",
    "if openai_api_key:\n",
    "    print(f\"OpenAI API Key exists and begins {openai_api_key[:8]}\")\n",
    "else:\n",
    "    print(\"OpenAI API Key not set\")\n",
    "    \n",
    "if anthropic_api_key:\n",
    "    print(f\"Anthropic API Key exists and begins {anthropic_api_key[:7]}\")\n",
    "else:\n",
    "    print(\"Anthropic API Key not set (and this is optional)\")\n",
    "\n",
    "if google_api_key:\n",
    "    print(f\"Google API Key exists and begins {google_api_key[:2]}\")\n",
    "else:\n",
    "    print(\"Google API Key not set (and this is optional)\")\n",
    "\n",
    "if deepseek_api_key:\n",
    "    print(f\"DeepSeek API Key exists and begins {deepseek_api_key[:3]}\")\n",
    "else:\n",
    "    print(\"DeepSeek API Key not set (and this is optional)\")\n",
    "\n",
    "if groq_api_key:\n",
    "    print(f\"Groq API Key exists and begins {groq_api_key[:4]}\")\n",
    "else:\n",
    "    print(\"Groq API Key not set (and this is optional)\")"
   ]
  },
  {
   "cell_type": "code",
   "execution_count": 46,
   "metadata": {},
   "outputs": [],
   "source": [
    "request = \"Please come up with a challenging, nuanced question that I can ask a number of LLMs to evaluate their intelligence. \"\n",
    "request += \"Answer only with the question, no explanation.\"\n",
    "messages = [{\"role\": \"user\", \"content\": request}]"
   ]
  },
  {
   "cell_type": "code",
   "execution_count": 47,
   "metadata": {},
   "outputs": [
    {
     "data": {
      "text/plain": [
       "[{'role': 'user',\n",
       "  'content': 'Please come up with a challenging, nuanced question that I can ask a number of LLMs to evaluate their intelligence. Answer only with the question, no explanation.'}]"
      ]
     },
     "execution_count": 47,
     "metadata": {},
     "output_type": "execute_result"
    }
   ],
   "source": [
    "messages"
   ]
  },
  {
   "cell_type": "code",
   "execution_count": 48,
   "metadata": {},
   "outputs": [
    {
     "name": "stdout",
     "output_type": "stream",
     "text": [
      "In what ways do the cultural narratives surrounding artificial intelligence influence public perception and ethical considerations of its deployment, and how might these narratives evolve as AI technology continues to advance?\n"
     ]
    }
   ],
   "source": [
    "openai = OpenAI()\n",
    "response = openai.chat.completions.create(\n",
    "    model=\"gpt-4o-mini\",\n",
    "    messages=messages,\n",
    ")\n",
    "question = response.choices[0].message.content\n",
    "print(question)\n"
   ]
  },
  {
   "cell_type": "code",
   "execution_count": 49,
   "metadata": {},
   "outputs": [],
   "source": [
    "competitors = []\n",
    "answers = []\n",
    "messages = [{\"role\": \"user\", \"content\": question}]"
   ]
  },
  {
   "cell_type": "code",
   "execution_count": 50,
   "metadata": {},
   "outputs": [
    {
     "data": {
      "text/markdown": [
       "The cultural narratives surrounding artificial intelligence (AI) significantly influence public perception and ethical considerations in several ways:\n",
       "\n",
       "1. **Fear and Optimism**: Narratives often oscillate between dystopian and utopian views of AI. Dystopian portrayals, seen in films like \"Blade Runner\" or \"The Matrix,\" instill fears of loss of control, job displacement, and existential threats. Conversely, optimistic narratives depict AI as a tool for solving major global challenges, such as climate change and healthcare improvement. These contrasting views shape public attitudes—heightening skepticism and fear among some, while others may embrace AI with enthusiasm, believing it can lead to societal advancements.\n",
       "\n",
       "2. **Representation in Media**: The portrayal of AI in movies, books, and news affects people's understanding and trust in the technology. Sensationalized narratives can lead to misinformed fears or unrealistic expectations, impacting how individuals and organizations engage with AI technologies. Positive representations can contribute to greater acceptance and exploration of AI's potential benefits, while negative portrayals can spur calls for regulation and ethical scrutiny.\n",
       "\n",
       "3. **Cultural Myths and Metaphors**: The way AI is personified in language and culture—often compared to human intelligence or portrayed as a sentient being—can influence how people relate to it. This anthropomorphism can result in both overestimating AI's capabilities and projecting human-like qualities onto machines, leading to mistrust or misplaced expectations regarding moral and ethical considerations.\n",
       "\n",
       "4. **Ethics and Accountability**: Cultural narratives also feed into the ethical discourse surrounding AI. As stories emerge about biased algorithms or unethical AI applications, public outrage often necessitates discussions around accountability, transparency, and fairness. These narratives crystallize into frameworks that guide ethical considerations in AI deployment, impacting how companies and governments approach technology development and regulation.\n",
       "\n",
       "5. **Empowerment vs. Disempowerment**: Narratives can also influence perceptions about who benefits from AI technology. Stories emphasizing worker displacement can create a sense of disempowerment, while those focused on technology enhancing human capabilities can foster feelings of empowerment. The foregrounding of these narratives can lead to movement-building around equitable access to technology and political advocacy for responsible AI deployment.\n",
       "\n",
       "As AI technology continues to evolve, these cultural narratives may shift in several ways:\n",
       "\n",
       "1. **Integration of AI into Daily Life**: As AI becomes more embedded in everyday applications (like virtual assistants, health diagnostics, etc.), narratives may evolve to reflect a more normalized view of AI, focusing on its benefits and challenges within specific contexts rather than general existential threats.\n",
       "\n",
       "2. **Public Engagement and Education**: Increased education about AI might shift narratives towards informed discussions about its capabilities and limitations, dispelling myths and fostering a more nuanced understanding that incorporates a broad spectrum of views.\n",
       "\n",
       "3. **Global Perspectives**: Cultural narratives surrounding AI will also likely diversify as non-Western perspectives gain prominence. Different cultural contexts may lead to varied interpretations of AI’s role, fostering a deeper discourse on ethics that incorporates manifold viewpoints.\n",
       "\n",
       "4. **Regulatory Developments**: As ethical considerations grow more pressing, narratives around AI might increasingly focus on governance, regulation, and the role of international cooperation in creating standards that address public concerns while fostering innovation.\n",
       "\n",
       "5. **Narratives of Collaboration**: As human-AI collaboration becomes more standard in workplaces and broader society, cultural narratives might shift towards those that emphasize partnership and augmentation rather than replacement and fear.\n",
       "\n",
       "In conclusion, the interplay between cultural narratives and AI will continue to evolve. The direction of this evolution will depend on societal experiences with AI technologies, shifting fears, aspirations, and the collective decisions made regarding the ethical frameworks that guide their development and deployment."
      ],
      "text/plain": [
       "<IPython.core.display.Markdown object>"
      ]
     },
     "metadata": {},
     "output_type": "display_data"
    }
   ],
   "source": [
    "# The API we know well\n",
    "\n",
    "model_name = \"gpt-4o-mini\"\n",
    "\n",
    "response = openai.chat.completions.create(model=model_name, messages=messages)\n",
    "answer = response.choices[0].message.content\n",
    "\n",
    "display(Markdown(answer))\n",
    "competitors.append(model_name)\n",
    "answers.append(answer)"
   ]
  },
  {
   "cell_type": "code",
   "execution_count": 51,
   "metadata": {},
   "outputs": [
    {
     "data": {
      "text/markdown": [
       "# Cultural Narratives and AI Perception\n",
       "\n",
       "Cultural narratives about AI significantly shape public perception and ethical frameworks through several mechanisms:\n",
       "\n",
       "**Media Influence**: Science fiction portrayals—from utopian visions like Star Trek's benevolent AI to dystopian warnings in works like \"The Terminator\" or \"Ex Machina\"—create powerful mental frameworks that people apply to real AI developments.\n",
       "\n",
       "**Technological Determinism**: Many narratives present AI advancement as inevitable and autonomous, potentially undermining discussions about human agency in technology governance.\n",
       "\n",
       "**Anthropomorphism**: Our tendency to attribute human qualities to AI systems affects how we conceptualize their capabilities, rights, and potential dangers.\n",
       "\n",
       "**Historical Analogies**: Comparisons to past technological revolutions (industrial, nuclear, digital) frame expectations about AI's societal impact.\n",
       "\n",
       "**Cultural Variations**: Western narratives often emphasize individual autonomy and control, while some Eastern traditions may be more accepting of interdependence with technological systems.\n",
       "\n",
       "## Evolution of AI Narratives\n",
       "\n",
       "As AI technology advances, these narratives will likely evolve through:\n",
       "\n",
       "1. Increasing nuance as public experience with actual AI systems tempers both utopian and dystopian extremes\n",
       "\n",
       "2. Greater focus on distributional effects rather than existential questions\n",
       "\n",
       "3. Development of new metaphors beyond human intelligence to describe AI capabilities\n",
       "\n",
       "4. Integration of diverse cultural perspectives as AI development globalizes\n",
       "\n",
       "5. Emergence of narratives addressing human-AI collaboration rather than competition\n",
       "\n",
       "These evolving narratives will significantly influence which ethical frameworks gain prominence in AI governance discussions."
      ],
      "text/plain": [
       "<IPython.core.display.Markdown object>"
      ]
     },
     "metadata": {},
     "output_type": "display_data"
    }
   ],
   "source": [
    "# Anthropic has a slightly different API, and Max Tokens is required\n",
    "\n",
    "model_name = \"claude-3-7-sonnet-latest\"\n",
    "\n",
    "claude = Anthropic()\n",
    "response = claude.messages.create(model=model_name, messages=messages, max_tokens=1000)\n",
    "answer = response.content[0].text\n",
    "\n",
    "display(Markdown(answer))\n",
    "competitors.append(model_name)\n",
    "answers.append(answer)"
   ]
  },
  {
   "cell_type": "code",
   "execution_count": 52,
   "metadata": {},
   "outputs": [
    {
     "ename": "BadRequestError",
     "evalue": "Error code: 400 - [{'error': {'code': 400, 'message': 'API key not valid. Please pass a valid API key.', 'status': 'INVALID_ARGUMENT', 'details': [{'@type': 'type.googleapis.com/google.rpc.ErrorInfo', 'reason': 'API_KEY_INVALID', 'domain': 'googleapis.com', 'metadata': {'service': 'generativelanguage.googleapis.com'}}, {'@type': 'type.googleapis.com/google.rpc.LocalizedMessage', 'locale': 'en-US', 'message': 'API key not valid. Please pass a valid API key.'}]}}]",
     "output_type": "error",
     "traceback": [
      "\u001b[31m---------------------------------------------------------------------------\u001b[39m",
      "\u001b[31mBadRequestError\u001b[39m                           Traceback (most recent call last)",
      "\u001b[36mCell\u001b[39m\u001b[36m \u001b[39m\u001b[32mIn[52]\u001b[39m\u001b[32m, line 4\u001b[39m\n\u001b[32m      1\u001b[39m gemini = OpenAI(api_key=google_api_key, base_url=\u001b[33m\"\u001b[39m\u001b[33mhttps://generativelanguage.googleapis.com/v1beta/openai/\u001b[39m\u001b[33m\"\u001b[39m)\n\u001b[32m      2\u001b[39m model_name = \u001b[33m\"\u001b[39m\u001b[33mgemini-2.0-flash\u001b[39m\u001b[33m\"\u001b[39m\n\u001b[32m----> \u001b[39m\u001b[32m4\u001b[39m response = \u001b[43mgemini\u001b[49m\u001b[43m.\u001b[49m\u001b[43mchat\u001b[49m\u001b[43m.\u001b[49m\u001b[43mcompletions\u001b[49m\u001b[43m.\u001b[49m\u001b[43mcreate\u001b[49m\u001b[43m(\u001b[49m\u001b[43mmodel\u001b[49m\u001b[43m=\u001b[49m\u001b[43mmodel_name\u001b[49m\u001b[43m,\u001b[49m\u001b[43m \u001b[49m\u001b[43mmessages\u001b[49m\u001b[43m=\u001b[49m\u001b[43mmessages\u001b[49m\u001b[43m)\u001b[49m\n\u001b[32m      5\u001b[39m answer = response.choices[\u001b[32m0\u001b[39m].message.content\n\u001b[32m      7\u001b[39m display(Markdown(answer))\n",
      "\u001b[36mFile \u001b[39m\u001b[32m~/projects/agents/.venv/lib/python3.12/site-packages/openai/_utils/_utils.py:287\u001b[39m, in \u001b[36mrequired_args.<locals>.inner.<locals>.wrapper\u001b[39m\u001b[34m(*args, **kwargs)\u001b[39m\n\u001b[32m    285\u001b[39m             msg = \u001b[33mf\u001b[39m\u001b[33m\"\u001b[39m\u001b[33mMissing required argument: \u001b[39m\u001b[38;5;132;01m{\u001b[39;00mquote(missing[\u001b[32m0\u001b[39m])\u001b[38;5;132;01m}\u001b[39;00m\u001b[33m\"\u001b[39m\n\u001b[32m    286\u001b[39m     \u001b[38;5;28;01mraise\u001b[39;00m \u001b[38;5;167;01mTypeError\u001b[39;00m(msg)\n\u001b[32m--> \u001b[39m\u001b[32m287\u001b[39m \u001b[38;5;28;01mreturn\u001b[39;00m \u001b[43mfunc\u001b[49m\u001b[43m(\u001b[49m\u001b[43m*\u001b[49m\u001b[43margs\u001b[49m\u001b[43m,\u001b[49m\u001b[43m \u001b[49m\u001b[43m*\u001b[49m\u001b[43m*\u001b[49m\u001b[43mkwargs\u001b[49m\u001b[43m)\u001b[49m\n",
      "\u001b[36mFile \u001b[39m\u001b[32m~/projects/agents/.venv/lib/python3.12/site-packages/openai/resources/chat/completions/completions.py:925\u001b[39m, in \u001b[36mCompletions.create\u001b[39m\u001b[34m(self, messages, model, audio, frequency_penalty, function_call, functions, logit_bias, logprobs, max_completion_tokens, max_tokens, metadata, modalities, n, parallel_tool_calls, prediction, presence_penalty, reasoning_effort, response_format, seed, service_tier, stop, store, stream, stream_options, temperature, tool_choice, tools, top_logprobs, top_p, user, web_search_options, extra_headers, extra_query, extra_body, timeout)\u001b[39m\n\u001b[32m    882\u001b[39m \u001b[38;5;129m@required_args\u001b[39m([\u001b[33m\"\u001b[39m\u001b[33mmessages\u001b[39m\u001b[33m\"\u001b[39m, \u001b[33m\"\u001b[39m\u001b[33mmodel\u001b[39m\u001b[33m\"\u001b[39m], [\u001b[33m\"\u001b[39m\u001b[33mmessages\u001b[39m\u001b[33m\"\u001b[39m, \u001b[33m\"\u001b[39m\u001b[33mmodel\u001b[39m\u001b[33m\"\u001b[39m, \u001b[33m\"\u001b[39m\u001b[33mstream\u001b[39m\u001b[33m\"\u001b[39m])\n\u001b[32m    883\u001b[39m \u001b[38;5;28;01mdef\u001b[39;00m\u001b[38;5;250m \u001b[39m\u001b[34mcreate\u001b[39m(\n\u001b[32m    884\u001b[39m     \u001b[38;5;28mself\u001b[39m,\n\u001b[32m   (...)\u001b[39m\u001b[32m    922\u001b[39m     timeout: \u001b[38;5;28mfloat\u001b[39m | httpx.Timeout | \u001b[38;5;28;01mNone\u001b[39;00m | NotGiven = NOT_GIVEN,\n\u001b[32m    923\u001b[39m ) -> ChatCompletion | Stream[ChatCompletionChunk]:\n\u001b[32m    924\u001b[39m     validate_response_format(response_format)\n\u001b[32m--> \u001b[39m\u001b[32m925\u001b[39m     \u001b[38;5;28;01mreturn\u001b[39;00m \u001b[38;5;28;43mself\u001b[39;49m\u001b[43m.\u001b[49m\u001b[43m_post\u001b[49m\u001b[43m(\u001b[49m\n\u001b[32m    926\u001b[39m \u001b[43m        \u001b[49m\u001b[33;43m\"\u001b[39;49m\u001b[33;43m/chat/completions\u001b[39;49m\u001b[33;43m\"\u001b[39;49m\u001b[43m,\u001b[49m\n\u001b[32m    927\u001b[39m \u001b[43m        \u001b[49m\u001b[43mbody\u001b[49m\u001b[43m=\u001b[49m\u001b[43mmaybe_transform\u001b[49m\u001b[43m(\u001b[49m\n\u001b[32m    928\u001b[39m \u001b[43m            \u001b[49m\u001b[43m{\u001b[49m\n\u001b[32m    929\u001b[39m \u001b[43m                \u001b[49m\u001b[33;43m\"\u001b[39;49m\u001b[33;43mmessages\u001b[39;49m\u001b[33;43m\"\u001b[39;49m\u001b[43m:\u001b[49m\u001b[43m \u001b[49m\u001b[43mmessages\u001b[49m\u001b[43m,\u001b[49m\n\u001b[32m    930\u001b[39m \u001b[43m                \u001b[49m\u001b[33;43m\"\u001b[39;49m\u001b[33;43mmodel\u001b[39;49m\u001b[33;43m\"\u001b[39;49m\u001b[43m:\u001b[49m\u001b[43m \u001b[49m\u001b[43mmodel\u001b[49m\u001b[43m,\u001b[49m\n\u001b[32m    931\u001b[39m \u001b[43m                \u001b[49m\u001b[33;43m\"\u001b[39;49m\u001b[33;43maudio\u001b[39;49m\u001b[33;43m\"\u001b[39;49m\u001b[43m:\u001b[49m\u001b[43m \u001b[49m\u001b[43maudio\u001b[49m\u001b[43m,\u001b[49m\n\u001b[32m    932\u001b[39m \u001b[43m                \u001b[49m\u001b[33;43m\"\u001b[39;49m\u001b[33;43mfrequency_penalty\u001b[39;49m\u001b[33;43m\"\u001b[39;49m\u001b[43m:\u001b[49m\u001b[43m \u001b[49m\u001b[43mfrequency_penalty\u001b[49m\u001b[43m,\u001b[49m\n\u001b[32m    933\u001b[39m \u001b[43m                \u001b[49m\u001b[33;43m\"\u001b[39;49m\u001b[33;43mfunction_call\u001b[39;49m\u001b[33;43m\"\u001b[39;49m\u001b[43m:\u001b[49m\u001b[43m \u001b[49m\u001b[43mfunction_call\u001b[49m\u001b[43m,\u001b[49m\n\u001b[32m    934\u001b[39m \u001b[43m                \u001b[49m\u001b[33;43m\"\u001b[39;49m\u001b[33;43mfunctions\u001b[39;49m\u001b[33;43m\"\u001b[39;49m\u001b[43m:\u001b[49m\u001b[43m \u001b[49m\u001b[43mfunctions\u001b[49m\u001b[43m,\u001b[49m\n\u001b[32m    935\u001b[39m \u001b[43m                \u001b[49m\u001b[33;43m\"\u001b[39;49m\u001b[33;43mlogit_bias\u001b[39;49m\u001b[33;43m\"\u001b[39;49m\u001b[43m:\u001b[49m\u001b[43m \u001b[49m\u001b[43mlogit_bias\u001b[49m\u001b[43m,\u001b[49m\n\u001b[32m    936\u001b[39m \u001b[43m                \u001b[49m\u001b[33;43m\"\u001b[39;49m\u001b[33;43mlogprobs\u001b[39;49m\u001b[33;43m\"\u001b[39;49m\u001b[43m:\u001b[49m\u001b[43m \u001b[49m\u001b[43mlogprobs\u001b[49m\u001b[43m,\u001b[49m\n\u001b[32m    937\u001b[39m \u001b[43m                \u001b[49m\u001b[33;43m\"\u001b[39;49m\u001b[33;43mmax_completion_tokens\u001b[39;49m\u001b[33;43m\"\u001b[39;49m\u001b[43m:\u001b[49m\u001b[43m \u001b[49m\u001b[43mmax_completion_tokens\u001b[49m\u001b[43m,\u001b[49m\n\u001b[32m    938\u001b[39m \u001b[43m                \u001b[49m\u001b[33;43m\"\u001b[39;49m\u001b[33;43mmax_tokens\u001b[39;49m\u001b[33;43m\"\u001b[39;49m\u001b[43m:\u001b[49m\u001b[43m \u001b[49m\u001b[43mmax_tokens\u001b[49m\u001b[43m,\u001b[49m\n\u001b[32m    939\u001b[39m \u001b[43m                \u001b[49m\u001b[33;43m\"\u001b[39;49m\u001b[33;43mmetadata\u001b[39;49m\u001b[33;43m\"\u001b[39;49m\u001b[43m:\u001b[49m\u001b[43m \u001b[49m\u001b[43mmetadata\u001b[49m\u001b[43m,\u001b[49m\n\u001b[32m    940\u001b[39m \u001b[43m                \u001b[49m\u001b[33;43m\"\u001b[39;49m\u001b[33;43mmodalities\u001b[39;49m\u001b[33;43m\"\u001b[39;49m\u001b[43m:\u001b[49m\u001b[43m \u001b[49m\u001b[43mmodalities\u001b[49m\u001b[43m,\u001b[49m\n\u001b[32m    941\u001b[39m \u001b[43m                \u001b[49m\u001b[33;43m\"\u001b[39;49m\u001b[33;43mn\u001b[39;49m\u001b[33;43m\"\u001b[39;49m\u001b[43m:\u001b[49m\u001b[43m \u001b[49m\u001b[43mn\u001b[49m\u001b[43m,\u001b[49m\n\u001b[32m    942\u001b[39m \u001b[43m                \u001b[49m\u001b[33;43m\"\u001b[39;49m\u001b[33;43mparallel_tool_calls\u001b[39;49m\u001b[33;43m\"\u001b[39;49m\u001b[43m:\u001b[49m\u001b[43m \u001b[49m\u001b[43mparallel_tool_calls\u001b[49m\u001b[43m,\u001b[49m\n\u001b[32m    943\u001b[39m \u001b[43m                \u001b[49m\u001b[33;43m\"\u001b[39;49m\u001b[33;43mprediction\u001b[39;49m\u001b[33;43m\"\u001b[39;49m\u001b[43m:\u001b[49m\u001b[43m \u001b[49m\u001b[43mprediction\u001b[49m\u001b[43m,\u001b[49m\n\u001b[32m    944\u001b[39m \u001b[43m                \u001b[49m\u001b[33;43m\"\u001b[39;49m\u001b[33;43mpresence_penalty\u001b[39;49m\u001b[33;43m\"\u001b[39;49m\u001b[43m:\u001b[49m\u001b[43m \u001b[49m\u001b[43mpresence_penalty\u001b[49m\u001b[43m,\u001b[49m\n\u001b[32m    945\u001b[39m \u001b[43m                \u001b[49m\u001b[33;43m\"\u001b[39;49m\u001b[33;43mreasoning_effort\u001b[39;49m\u001b[33;43m\"\u001b[39;49m\u001b[43m:\u001b[49m\u001b[43m \u001b[49m\u001b[43mreasoning_effort\u001b[49m\u001b[43m,\u001b[49m\n\u001b[32m    946\u001b[39m \u001b[43m                \u001b[49m\u001b[33;43m\"\u001b[39;49m\u001b[33;43mresponse_format\u001b[39;49m\u001b[33;43m\"\u001b[39;49m\u001b[43m:\u001b[49m\u001b[43m \u001b[49m\u001b[43mresponse_format\u001b[49m\u001b[43m,\u001b[49m\n\u001b[32m    947\u001b[39m \u001b[43m                \u001b[49m\u001b[33;43m\"\u001b[39;49m\u001b[33;43mseed\u001b[39;49m\u001b[33;43m\"\u001b[39;49m\u001b[43m:\u001b[49m\u001b[43m \u001b[49m\u001b[43mseed\u001b[49m\u001b[43m,\u001b[49m\n\u001b[32m    948\u001b[39m \u001b[43m                \u001b[49m\u001b[33;43m\"\u001b[39;49m\u001b[33;43mservice_tier\u001b[39;49m\u001b[33;43m\"\u001b[39;49m\u001b[43m:\u001b[49m\u001b[43m \u001b[49m\u001b[43mservice_tier\u001b[49m\u001b[43m,\u001b[49m\n\u001b[32m    949\u001b[39m \u001b[43m                \u001b[49m\u001b[33;43m\"\u001b[39;49m\u001b[33;43mstop\u001b[39;49m\u001b[33;43m\"\u001b[39;49m\u001b[43m:\u001b[49m\u001b[43m \u001b[49m\u001b[43mstop\u001b[49m\u001b[43m,\u001b[49m\n\u001b[32m    950\u001b[39m \u001b[43m                \u001b[49m\u001b[33;43m\"\u001b[39;49m\u001b[33;43mstore\u001b[39;49m\u001b[33;43m\"\u001b[39;49m\u001b[43m:\u001b[49m\u001b[43m \u001b[49m\u001b[43mstore\u001b[49m\u001b[43m,\u001b[49m\n\u001b[32m    951\u001b[39m \u001b[43m                \u001b[49m\u001b[33;43m\"\u001b[39;49m\u001b[33;43mstream\u001b[39;49m\u001b[33;43m\"\u001b[39;49m\u001b[43m:\u001b[49m\u001b[43m \u001b[49m\u001b[43mstream\u001b[49m\u001b[43m,\u001b[49m\n\u001b[32m    952\u001b[39m \u001b[43m                \u001b[49m\u001b[33;43m\"\u001b[39;49m\u001b[33;43mstream_options\u001b[39;49m\u001b[33;43m\"\u001b[39;49m\u001b[43m:\u001b[49m\u001b[43m \u001b[49m\u001b[43mstream_options\u001b[49m\u001b[43m,\u001b[49m\n\u001b[32m    953\u001b[39m \u001b[43m                \u001b[49m\u001b[33;43m\"\u001b[39;49m\u001b[33;43mtemperature\u001b[39;49m\u001b[33;43m\"\u001b[39;49m\u001b[43m:\u001b[49m\u001b[43m \u001b[49m\u001b[43mtemperature\u001b[49m\u001b[43m,\u001b[49m\n\u001b[32m    954\u001b[39m \u001b[43m                \u001b[49m\u001b[33;43m\"\u001b[39;49m\u001b[33;43mtool_choice\u001b[39;49m\u001b[33;43m\"\u001b[39;49m\u001b[43m:\u001b[49m\u001b[43m \u001b[49m\u001b[43mtool_choice\u001b[49m\u001b[43m,\u001b[49m\n\u001b[32m    955\u001b[39m \u001b[43m                \u001b[49m\u001b[33;43m\"\u001b[39;49m\u001b[33;43mtools\u001b[39;49m\u001b[33;43m\"\u001b[39;49m\u001b[43m:\u001b[49m\u001b[43m \u001b[49m\u001b[43mtools\u001b[49m\u001b[43m,\u001b[49m\n\u001b[32m    956\u001b[39m \u001b[43m                \u001b[49m\u001b[33;43m\"\u001b[39;49m\u001b[33;43mtop_logprobs\u001b[39;49m\u001b[33;43m\"\u001b[39;49m\u001b[43m:\u001b[49m\u001b[43m \u001b[49m\u001b[43mtop_logprobs\u001b[49m\u001b[43m,\u001b[49m\n\u001b[32m    957\u001b[39m \u001b[43m                \u001b[49m\u001b[33;43m\"\u001b[39;49m\u001b[33;43mtop_p\u001b[39;49m\u001b[33;43m\"\u001b[39;49m\u001b[43m:\u001b[49m\u001b[43m \u001b[49m\u001b[43mtop_p\u001b[49m\u001b[43m,\u001b[49m\n\u001b[32m    958\u001b[39m \u001b[43m                \u001b[49m\u001b[33;43m\"\u001b[39;49m\u001b[33;43muser\u001b[39;49m\u001b[33;43m\"\u001b[39;49m\u001b[43m:\u001b[49m\u001b[43m \u001b[49m\u001b[43muser\u001b[49m\u001b[43m,\u001b[49m\n\u001b[32m    959\u001b[39m \u001b[43m                \u001b[49m\u001b[33;43m\"\u001b[39;49m\u001b[33;43mweb_search_options\u001b[39;49m\u001b[33;43m\"\u001b[39;49m\u001b[43m:\u001b[49m\u001b[43m \u001b[49m\u001b[43mweb_search_options\u001b[49m\u001b[43m,\u001b[49m\n\u001b[32m    960\u001b[39m \u001b[43m            \u001b[49m\u001b[43m}\u001b[49m\u001b[43m,\u001b[49m\n\u001b[32m    961\u001b[39m \u001b[43m            \u001b[49m\u001b[43mcompletion_create_params\u001b[49m\u001b[43m.\u001b[49m\u001b[43mCompletionCreateParamsStreaming\u001b[49m\n\u001b[32m    962\u001b[39m \u001b[43m            \u001b[49m\u001b[38;5;28;43;01mif\u001b[39;49;00m\u001b[43m \u001b[49m\u001b[43mstream\u001b[49m\n\u001b[32m    963\u001b[39m \u001b[43m            \u001b[49m\u001b[38;5;28;43;01melse\u001b[39;49;00m\u001b[43m \u001b[49m\u001b[43mcompletion_create_params\u001b[49m\u001b[43m.\u001b[49m\u001b[43mCompletionCreateParamsNonStreaming\u001b[49m\u001b[43m,\u001b[49m\n\u001b[32m    964\u001b[39m \u001b[43m        \u001b[49m\u001b[43m)\u001b[49m\u001b[43m,\u001b[49m\n\u001b[32m    965\u001b[39m \u001b[43m        \u001b[49m\u001b[43moptions\u001b[49m\u001b[43m=\u001b[49m\u001b[43mmake_request_options\u001b[49m\u001b[43m(\u001b[49m\n\u001b[32m    966\u001b[39m \u001b[43m            \u001b[49m\u001b[43mextra_headers\u001b[49m\u001b[43m=\u001b[49m\u001b[43mextra_headers\u001b[49m\u001b[43m,\u001b[49m\u001b[43m \u001b[49m\u001b[43mextra_query\u001b[49m\u001b[43m=\u001b[49m\u001b[43mextra_query\u001b[49m\u001b[43m,\u001b[49m\u001b[43m \u001b[49m\u001b[43mextra_body\u001b[49m\u001b[43m=\u001b[49m\u001b[43mextra_body\u001b[49m\u001b[43m,\u001b[49m\u001b[43m \u001b[49m\u001b[43mtimeout\u001b[49m\u001b[43m=\u001b[49m\u001b[43mtimeout\u001b[49m\n\u001b[32m    967\u001b[39m \u001b[43m        \u001b[49m\u001b[43m)\u001b[49m\u001b[43m,\u001b[49m\n\u001b[32m    968\u001b[39m \u001b[43m        \u001b[49m\u001b[43mcast_to\u001b[49m\u001b[43m=\u001b[49m\u001b[43mChatCompletion\u001b[49m\u001b[43m,\u001b[49m\n\u001b[32m    969\u001b[39m \u001b[43m        \u001b[49m\u001b[43mstream\u001b[49m\u001b[43m=\u001b[49m\u001b[43mstream\u001b[49m\u001b[43m \u001b[49m\u001b[38;5;129;43;01mor\u001b[39;49;00m\u001b[43m \u001b[49m\u001b[38;5;28;43;01mFalse\u001b[39;49;00m\u001b[43m,\u001b[49m\n\u001b[32m    970\u001b[39m \u001b[43m        \u001b[49m\u001b[43mstream_cls\u001b[49m\u001b[43m=\u001b[49m\u001b[43mStream\u001b[49m\u001b[43m[\u001b[49m\u001b[43mChatCompletionChunk\u001b[49m\u001b[43m]\u001b[49m\u001b[43m,\u001b[49m\n\u001b[32m    971\u001b[39m \u001b[43m    \u001b[49m\u001b[43m)\u001b[49m\n",
      "\u001b[36mFile \u001b[39m\u001b[32m~/projects/agents/.venv/lib/python3.12/site-packages/openai/_base_client.py:1239\u001b[39m, in \u001b[36mSyncAPIClient.post\u001b[39m\u001b[34m(self, path, cast_to, body, options, files, stream, stream_cls)\u001b[39m\n\u001b[32m   1225\u001b[39m \u001b[38;5;28;01mdef\u001b[39;00m\u001b[38;5;250m \u001b[39m\u001b[34mpost\u001b[39m(\n\u001b[32m   1226\u001b[39m     \u001b[38;5;28mself\u001b[39m,\n\u001b[32m   1227\u001b[39m     path: \u001b[38;5;28mstr\u001b[39m,\n\u001b[32m   (...)\u001b[39m\u001b[32m   1234\u001b[39m     stream_cls: \u001b[38;5;28mtype\u001b[39m[_StreamT] | \u001b[38;5;28;01mNone\u001b[39;00m = \u001b[38;5;28;01mNone\u001b[39;00m,\n\u001b[32m   1235\u001b[39m ) -> ResponseT | _StreamT:\n\u001b[32m   1236\u001b[39m     opts = FinalRequestOptions.construct(\n\u001b[32m   1237\u001b[39m         method=\u001b[33m\"\u001b[39m\u001b[33mpost\u001b[39m\u001b[33m\"\u001b[39m, url=path, json_data=body, files=to_httpx_files(files), **options\n\u001b[32m   1238\u001b[39m     )\n\u001b[32m-> \u001b[39m\u001b[32m1239\u001b[39m     \u001b[38;5;28;01mreturn\u001b[39;00m cast(ResponseT, \u001b[38;5;28;43mself\u001b[39;49m\u001b[43m.\u001b[49m\u001b[43mrequest\u001b[49m\u001b[43m(\u001b[49m\u001b[43mcast_to\u001b[49m\u001b[43m,\u001b[49m\u001b[43m \u001b[49m\u001b[43mopts\u001b[49m\u001b[43m,\u001b[49m\u001b[43m \u001b[49m\u001b[43mstream\u001b[49m\u001b[43m=\u001b[49m\u001b[43mstream\u001b[49m\u001b[43m,\u001b[49m\u001b[43m \u001b[49m\u001b[43mstream_cls\u001b[49m\u001b[43m=\u001b[49m\u001b[43mstream_cls\u001b[49m\u001b[43m)\u001b[49m)\n",
      "\u001b[36mFile \u001b[39m\u001b[32m~/projects/agents/.venv/lib/python3.12/site-packages/openai/_base_client.py:1034\u001b[39m, in \u001b[36mSyncAPIClient.request\u001b[39m\u001b[34m(self, cast_to, options, stream, stream_cls)\u001b[39m\n\u001b[32m   1031\u001b[39m             err.response.read()\n\u001b[32m   1033\u001b[39m         log.debug(\u001b[33m\"\u001b[39m\u001b[33mRe-raising status error\u001b[39m\u001b[33m\"\u001b[39m)\n\u001b[32m-> \u001b[39m\u001b[32m1034\u001b[39m         \u001b[38;5;28;01mraise\u001b[39;00m \u001b[38;5;28mself\u001b[39m._make_status_error_from_response(err.response) \u001b[38;5;28;01mfrom\u001b[39;00m\u001b[38;5;250m \u001b[39m\u001b[38;5;28;01mNone\u001b[39;00m\n\u001b[32m   1036\u001b[39m     \u001b[38;5;28;01mbreak\u001b[39;00m\n\u001b[32m   1038\u001b[39m \u001b[38;5;28;01massert\u001b[39;00m response \u001b[38;5;129;01mis\u001b[39;00m \u001b[38;5;129;01mnot\u001b[39;00m \u001b[38;5;28;01mNone\u001b[39;00m, \u001b[33m\"\u001b[39m\u001b[33mcould not resolve response (should never happen)\u001b[39m\u001b[33m\"\u001b[39m\n",
      "\u001b[31mBadRequestError\u001b[39m: Error code: 400 - [{'error': {'code': 400, 'message': 'API key not valid. Please pass a valid API key.', 'status': 'INVALID_ARGUMENT', 'details': [{'@type': 'type.googleapis.com/google.rpc.ErrorInfo', 'reason': 'API_KEY_INVALID', 'domain': 'googleapis.com', 'metadata': {'service': 'generativelanguage.googleapis.com'}}, {'@type': 'type.googleapis.com/google.rpc.LocalizedMessage', 'locale': 'en-US', 'message': 'API key not valid. Please pass a valid API key.'}]}}]"
     ]
    }
   ],
   "source": [
    "gemini = OpenAI(api_key=google_api_key, base_url=\"https://generativelanguage.googleapis.com/v1beta/openai/\")\n",
    "model_name = \"gemini-2.0-flash\"\n",
    "\n",
    "response = gemini.chat.completions.create(model=model_name, messages=messages)\n",
    "answer = response.choices[0].message.content\n",
    "\n",
    "display(Markdown(answer))\n",
    "competitors.append(model_name)\n",
    "answers.append(answer)"
   ]
  },
  {
   "cell_type": "code",
   "execution_count": null,
   "metadata": {},
   "outputs": [],
   "source": [
    "deepseek = OpenAI(api_key=deepseek_api_key, base_url=\"https://api.deepseek.com/v1\")\n",
    "model_name = \"deepseek-chat\"\n",
    "\n",
    "response = deepseek.chat.completions.create(model=model_name, messages=messages)\n",
    "answer = response.choices[0].message.content\n",
    "\n",
    "display(Markdown(answer))\n",
    "competitors.append(model_name)\n",
    "answers.append(answer)"
   ]
  },
  {
   "cell_type": "code",
   "execution_count": 53,
   "metadata": {},
   "outputs": [
    {
     "data": {
      "text/markdown": [
       "The cultural narratives surrounding artificial intelligence (AI) have a significant impact on public perception and ethical considerations of its deployment. These narratives shape how people think about AI, its potential benefits and risks, and the role it should play in society. Here are some ways cultural narratives influence public perception and ethical considerations of AI, and how they might evolve as AI technology advances:\n",
       "\n",
       "**Current cultural narratives:**\n",
       "\n",
       "1. **The Terminator narrative**: This narrative, popularized by the movie franchise, portrays AI as a potential existential threat to humanity. It fuels concerns about AI becoming uncontrollable, autonomous, and hostile.\n",
       "2. **The utopian narrative**: This narrative depicts AI as a solution to many of humanity's problems, such as disease, poverty, and climate change. It emphasizes AI's potential to improve human life and create a better future.\n",
       "3. **The job displacement narrative**: This narrative focuses on the potential negative impact of AI on employment, highlighting the risk of widespread job loss and economic disruption.\n",
       "4. **The surveillance state narrative**: This narrative raises concerns about AI-powered surveillance and the potential erosion of individual privacy and civil liberties.\n",
       "\n",
       "**Influence on public perception:**\n",
       "\n",
       "1. **Fear and mistrust**: The Terminator narrative contributes to public fear and mistrust of AI, leading to concerns about AI's potential risks and unintended consequences.\n",
       "2. **Overemphasis on benefits**: The utopian narrative can create unrealistic expectations about AI's potential benefits, leading to disappointment or disillusionment if these expectations are not met.\n",
       "3. **Job insecurity**: The job displacement narrative fuels anxiety about the impact of AI on employment, potentially leading to resistance to AI adoption.\n",
       "4. **Privacy concerns**: The surveillance state narrative highlights the importance of protecting individual privacy and civil liberties in the face of AI-powered surveillance.\n",
       "\n",
       "**Influence on ethical considerations:**\n",
       "\n",
       "1. **Value alignment**: The cultural narratives surrounding AI influence how we think about aligning AI systems with human values, such as fairness, transparency, and accountability.\n",
       "2. **Responsibility and accountability**: The narratives shape our understanding of who is responsible for AI systems' actions and decisions, and how to hold them accountable.\n",
       "3. **Data governance**: The surveillance state narrative highlights the need for robust data governance frameworks to protect individual privacy and prevent AI-powered surveillance.\n",
       "4. **Transparency and explainability**: The cultural narratives surrounding AI influence the importance we place on transparency and explainability in AI systems, particularly in high-stakes applications like healthcare and finance.\n",
       "\n",
       "**Evolution of cultural narratives:**\n",
       "\n",
       "As AI technology advances, the cultural narratives surrounding AI are likely to evolve in response to new developments and challenges. Here are some potential trends:\n",
       "\n",
       "1. **Increased nuance**: As AI becomes more ubiquitous, the cultural narratives surrounding AI may become more nuanced, recognizing both the benefits and risks of AI.\n",
       "2. **Shift from fear to fascination**: As AI becomes more integrated into daily life, the public may become more fascinated by AI's potential to improve human life, rather than fearful of its risks.\n",
       "3. **Growing emphasis on human-AI collaboration**: The cultural narratives surrounding AI may shift to emphasize the potential for human-AI collaboration, highlighting the benefits of augmenting human capabilities with AI.\n",
       "4. **Rising concerns about AI bias and fairness**: As AI becomes more pervasive, concerns about AI bias and fairness may become more prominent, leading to increased emphasis on developing and deploying fair and transparent AI systems.\n",
       "\n",
       "Ultimately, the cultural narratives surrounding AI will continue to shape public perception and ethical considerations of AI deployment. As AI technology advances, it is essential to engage in ongoing discussions about the implications of AI and its potential impact on society, ensuring that the development and deployment of AI align with human values and promote a better future for all."
      ],
      "text/plain": [
       "<IPython.core.display.Markdown object>"
      ]
     },
     "metadata": {},
     "output_type": "display_data"
    }
   ],
   "source": [
    "groq = OpenAI(api_key=groq_api_key, base_url=\"https://api.groq.com/openai/v1\")\n",
    "model_name = \"llama-3.3-70b-versatile\"\n",
    "\n",
    "response = groq.chat.completions.create(model=model_name, messages=messages)\n",
    "answer = response.choices[0].message.content\n",
    "\n",
    "display(Markdown(answer))\n",
    "competitors.append(model_name)\n",
    "answers.append(answer)\n"
   ]
  },
  {
   "cell_type": "markdown",
   "metadata": {},
   "source": [
    "## For the next cell, we will use Ollama\n",
    "\n",
    "Ollama runs a local web service that gives an OpenAI compatible endpoint,  \n",
    "and runs models locally using high performance C++ code.\n",
    "\n",
    "If you don't have Ollama, install it here by visiting https://ollama.com then pressing Download and following the instructions.\n",
    "\n",
    "After it's installed, you should be able to visit here: http://localhost:11434 and see the message \"Ollama is running\"\n",
    "\n",
    "You might need to restart Cursor (and maybe reboot). Then open a Terminal (control+\\`) and run `ollama serve`\n",
    "\n",
    "Useful Ollama commands (run these in the terminal, or with an exclamation mark in this notebook):\n",
    "\n",
    "`ollama pull <model_name>` downloads a model locally  \n",
    "`ollama ls` lists all the models you've downloaded  \n",
    "`ollama rm <model_name>` deletes the specified model from your downloads"
   ]
  },
  {
   "cell_type": "markdown",
   "metadata": {},
   "source": [
    "<table style=\"margin: 0; text-align: left; width:100%\">\n",
    "    <tr>\n",
    "        <td style=\"width: 150px; height: 150px; vertical-align: middle;\">\n",
    "            <img src=\"../assets/stop.png\" width=\"150\" height=\"150\" style=\"display: block;\" />\n",
    "        </td>\n",
    "        <td>\n",
    "            <h2 style=\"color:#ff7800;\">Super important - ignore me at your peril!</h2>\n",
    "            <span style=\"color:#ff7800;\">The model called <b>llama3.3</b> is FAR too large for home computers - it's not intended for personal computing and will consume all your resources! Stick with the nicely sized <b>llama3.2</b> or <b>llama3.2:1b</b> and if you want larger, try llama3.1 or smaller variants of Qwen, Gemma, Phi or DeepSeek. See the <A href=\"https://ollama.com/models\">the Ollama models page</a> for a full list of models and sizes.\n",
    "            </span>\n",
    "        </td>\n",
    "    </tr>\n",
    "</table>"
   ]
  },
  {
   "cell_type": "code",
   "execution_count": 54,
   "metadata": {},
   "outputs": [
    {
     "name": "stderr",
     "output_type": "stream",
     "text": [
      "52421.73s - pydevd: Sending message related to process being replaced timed-out after 5 seconds\n"
     ]
    },
    {
     "name": "stdout",
     "output_type": "stream",
     "text": [
      "\u001b[?2026h\u001b[?25l\u001b[1Gpulling manifest ⠋ \u001b[K\u001b[?25h\u001b[?2026l\u001b[?2026h\u001b[?25l\u001b[1Gpulling manifest ⠙ \u001b[K\u001b[?25h\u001b[?2026l\u001b[?2026h\u001b[?25l\u001b[1Gpulling manifest ⠹ \u001b[K\u001b[?25h\u001b[?2026l\u001b[?2026h\u001b[?25l\u001b[1Gpulling manifest ⠸ \u001b[K\u001b[?25h\u001b[?2026l\u001b[?2026h\u001b[?25l\u001b[1Gpulling manifest ⠼ \u001b[K\u001b[?25h\u001b[?2026l\u001b[?2026h\u001b[?25l\u001b[1Gpulling manifest ⠴ \u001b[K\u001b[?25h\u001b[?2026l\u001b[?2026h\u001b[?25l\u001b[1Gpulling manifest \u001b[K\n",
      "pulling dde5aa3fc5ff: 100% ▕██████████████████▏ 2.0 GB                         \u001b[K\n",
      "pulling 966de95ca8a6: 100% ▕██████████████████▏ 1.4 KB                         \u001b[K\n",
      "pulling fcc5a6bec9da: 100% ▕██████████████████▏ 7.7 KB                         \u001b[K\n",
      "pulling a70ff7e570d9: 100% ▕██████████████████▏ 6.0 KB                         \u001b[K\n",
      "pulling 56bb8bd477a5: 100% ▕██████████████████▏   96 B                         \u001b[K\n",
      "pulling 34bb5ab01051: 100% ▕██████████████████▏  561 B                         \u001b[K\n",
      "verifying sha256 digest \u001b[K\n",
      "writing manifest \u001b[K\n",
      "success \u001b[K\u001b[?25h\u001b[?2026l\n"
     ]
    }
   ],
   "source": [
    "!ollama pull llama3.2\n",
    "\n"
   ]
  },
  {
   "cell_type": "code",
   "execution_count": 55,
   "metadata": {},
   "outputs": [
    {
     "ename": "KeyboardInterrupt",
     "evalue": "",
     "output_type": "error",
     "traceback": [
      "\u001b[31m---------------------------------------------------------------------------\u001b[39m",
      "\u001b[31mKeyboardInterrupt\u001b[39m                         Traceback (most recent call last)",
      "\u001b[36mCell\u001b[39m\u001b[36m \u001b[39m\u001b[32mIn[55]\u001b[39m\u001b[32m, line 4\u001b[39m\n\u001b[32m      1\u001b[39m ollama = OpenAI(base_url=\u001b[33m'\u001b[39m\u001b[33mhttp://localhost:11434/v1\u001b[39m\u001b[33m'\u001b[39m, api_key=\u001b[33m'\u001b[39m\u001b[33mollama\u001b[39m\u001b[33m'\u001b[39m)\n\u001b[32m      2\u001b[39m model_name = \u001b[33m\"\u001b[39m\u001b[33mllama3.2\u001b[39m\u001b[33m\"\u001b[39m\n\u001b[32m----> \u001b[39m\u001b[32m4\u001b[39m response = \u001b[43mollama\u001b[49m\u001b[43m.\u001b[49m\u001b[43mchat\u001b[49m\u001b[43m.\u001b[49m\u001b[43mcompletions\u001b[49m\u001b[43m.\u001b[49m\u001b[43mcreate\u001b[49m\u001b[43m(\u001b[49m\u001b[43mmodel\u001b[49m\u001b[43m=\u001b[49m\u001b[43mmodel_name\u001b[49m\u001b[43m,\u001b[49m\u001b[43m \u001b[49m\u001b[43mmessages\u001b[49m\u001b[43m=\u001b[49m\u001b[43mmessages\u001b[49m\u001b[43m)\u001b[49m\n\u001b[32m      5\u001b[39m answer = response.choices[\u001b[32m0\u001b[39m].message.content\n\u001b[32m      7\u001b[39m display(Markdown(answer))\n",
      "\u001b[36mFile \u001b[39m\u001b[32m~/projects/agents/.venv/lib/python3.12/site-packages/openai/_utils/_utils.py:287\u001b[39m, in \u001b[36mrequired_args.<locals>.inner.<locals>.wrapper\u001b[39m\u001b[34m(*args, **kwargs)\u001b[39m\n\u001b[32m    285\u001b[39m             msg = \u001b[33mf\u001b[39m\u001b[33m\"\u001b[39m\u001b[33mMissing required argument: \u001b[39m\u001b[38;5;132;01m{\u001b[39;00mquote(missing[\u001b[32m0\u001b[39m])\u001b[38;5;132;01m}\u001b[39;00m\u001b[33m\"\u001b[39m\n\u001b[32m    286\u001b[39m     \u001b[38;5;28;01mraise\u001b[39;00m \u001b[38;5;167;01mTypeError\u001b[39;00m(msg)\n\u001b[32m--> \u001b[39m\u001b[32m287\u001b[39m \u001b[38;5;28;01mreturn\u001b[39;00m \u001b[43mfunc\u001b[49m\u001b[43m(\u001b[49m\u001b[43m*\u001b[49m\u001b[43margs\u001b[49m\u001b[43m,\u001b[49m\u001b[43m \u001b[49m\u001b[43m*\u001b[49m\u001b[43m*\u001b[49m\u001b[43mkwargs\u001b[49m\u001b[43m)\u001b[49m\n",
      "\u001b[36mFile \u001b[39m\u001b[32m~/projects/agents/.venv/lib/python3.12/site-packages/openai/resources/chat/completions/completions.py:925\u001b[39m, in \u001b[36mCompletions.create\u001b[39m\u001b[34m(self, messages, model, audio, frequency_penalty, function_call, functions, logit_bias, logprobs, max_completion_tokens, max_tokens, metadata, modalities, n, parallel_tool_calls, prediction, presence_penalty, reasoning_effort, response_format, seed, service_tier, stop, store, stream, stream_options, temperature, tool_choice, tools, top_logprobs, top_p, user, web_search_options, extra_headers, extra_query, extra_body, timeout)\u001b[39m\n\u001b[32m    882\u001b[39m \u001b[38;5;129m@required_args\u001b[39m([\u001b[33m\"\u001b[39m\u001b[33mmessages\u001b[39m\u001b[33m\"\u001b[39m, \u001b[33m\"\u001b[39m\u001b[33mmodel\u001b[39m\u001b[33m\"\u001b[39m], [\u001b[33m\"\u001b[39m\u001b[33mmessages\u001b[39m\u001b[33m\"\u001b[39m, \u001b[33m\"\u001b[39m\u001b[33mmodel\u001b[39m\u001b[33m\"\u001b[39m, \u001b[33m\"\u001b[39m\u001b[33mstream\u001b[39m\u001b[33m\"\u001b[39m])\n\u001b[32m    883\u001b[39m \u001b[38;5;28;01mdef\u001b[39;00m\u001b[38;5;250m \u001b[39m\u001b[34mcreate\u001b[39m(\n\u001b[32m    884\u001b[39m     \u001b[38;5;28mself\u001b[39m,\n\u001b[32m   (...)\u001b[39m\u001b[32m    922\u001b[39m     timeout: \u001b[38;5;28mfloat\u001b[39m | httpx.Timeout | \u001b[38;5;28;01mNone\u001b[39;00m | NotGiven = NOT_GIVEN,\n\u001b[32m    923\u001b[39m ) -> ChatCompletion | Stream[ChatCompletionChunk]:\n\u001b[32m    924\u001b[39m     validate_response_format(response_format)\n\u001b[32m--> \u001b[39m\u001b[32m925\u001b[39m     \u001b[38;5;28;01mreturn\u001b[39;00m \u001b[38;5;28;43mself\u001b[39;49m\u001b[43m.\u001b[49m\u001b[43m_post\u001b[49m\u001b[43m(\u001b[49m\n\u001b[32m    926\u001b[39m \u001b[43m        \u001b[49m\u001b[33;43m\"\u001b[39;49m\u001b[33;43m/chat/completions\u001b[39;49m\u001b[33;43m\"\u001b[39;49m\u001b[43m,\u001b[49m\n\u001b[32m    927\u001b[39m \u001b[43m        \u001b[49m\u001b[43mbody\u001b[49m\u001b[43m=\u001b[49m\u001b[43mmaybe_transform\u001b[49m\u001b[43m(\u001b[49m\n\u001b[32m    928\u001b[39m \u001b[43m            \u001b[49m\u001b[43m{\u001b[49m\n\u001b[32m    929\u001b[39m \u001b[43m                \u001b[49m\u001b[33;43m\"\u001b[39;49m\u001b[33;43mmessages\u001b[39;49m\u001b[33;43m\"\u001b[39;49m\u001b[43m:\u001b[49m\u001b[43m \u001b[49m\u001b[43mmessages\u001b[49m\u001b[43m,\u001b[49m\n\u001b[32m    930\u001b[39m \u001b[43m                \u001b[49m\u001b[33;43m\"\u001b[39;49m\u001b[33;43mmodel\u001b[39;49m\u001b[33;43m\"\u001b[39;49m\u001b[43m:\u001b[49m\u001b[43m \u001b[49m\u001b[43mmodel\u001b[49m\u001b[43m,\u001b[49m\n\u001b[32m    931\u001b[39m \u001b[43m                \u001b[49m\u001b[33;43m\"\u001b[39;49m\u001b[33;43maudio\u001b[39;49m\u001b[33;43m\"\u001b[39;49m\u001b[43m:\u001b[49m\u001b[43m \u001b[49m\u001b[43maudio\u001b[49m\u001b[43m,\u001b[49m\n\u001b[32m    932\u001b[39m \u001b[43m                \u001b[49m\u001b[33;43m\"\u001b[39;49m\u001b[33;43mfrequency_penalty\u001b[39;49m\u001b[33;43m\"\u001b[39;49m\u001b[43m:\u001b[49m\u001b[43m \u001b[49m\u001b[43mfrequency_penalty\u001b[49m\u001b[43m,\u001b[49m\n\u001b[32m    933\u001b[39m \u001b[43m                \u001b[49m\u001b[33;43m\"\u001b[39;49m\u001b[33;43mfunction_call\u001b[39;49m\u001b[33;43m\"\u001b[39;49m\u001b[43m:\u001b[49m\u001b[43m \u001b[49m\u001b[43mfunction_call\u001b[49m\u001b[43m,\u001b[49m\n\u001b[32m    934\u001b[39m \u001b[43m                \u001b[49m\u001b[33;43m\"\u001b[39;49m\u001b[33;43mfunctions\u001b[39;49m\u001b[33;43m\"\u001b[39;49m\u001b[43m:\u001b[49m\u001b[43m \u001b[49m\u001b[43mfunctions\u001b[49m\u001b[43m,\u001b[49m\n\u001b[32m    935\u001b[39m \u001b[43m                \u001b[49m\u001b[33;43m\"\u001b[39;49m\u001b[33;43mlogit_bias\u001b[39;49m\u001b[33;43m\"\u001b[39;49m\u001b[43m:\u001b[49m\u001b[43m \u001b[49m\u001b[43mlogit_bias\u001b[49m\u001b[43m,\u001b[49m\n\u001b[32m    936\u001b[39m \u001b[43m                \u001b[49m\u001b[33;43m\"\u001b[39;49m\u001b[33;43mlogprobs\u001b[39;49m\u001b[33;43m\"\u001b[39;49m\u001b[43m:\u001b[49m\u001b[43m \u001b[49m\u001b[43mlogprobs\u001b[49m\u001b[43m,\u001b[49m\n\u001b[32m    937\u001b[39m \u001b[43m                \u001b[49m\u001b[33;43m\"\u001b[39;49m\u001b[33;43mmax_completion_tokens\u001b[39;49m\u001b[33;43m\"\u001b[39;49m\u001b[43m:\u001b[49m\u001b[43m \u001b[49m\u001b[43mmax_completion_tokens\u001b[49m\u001b[43m,\u001b[49m\n\u001b[32m    938\u001b[39m \u001b[43m                \u001b[49m\u001b[33;43m\"\u001b[39;49m\u001b[33;43mmax_tokens\u001b[39;49m\u001b[33;43m\"\u001b[39;49m\u001b[43m:\u001b[49m\u001b[43m \u001b[49m\u001b[43mmax_tokens\u001b[49m\u001b[43m,\u001b[49m\n\u001b[32m    939\u001b[39m \u001b[43m                \u001b[49m\u001b[33;43m\"\u001b[39;49m\u001b[33;43mmetadata\u001b[39;49m\u001b[33;43m\"\u001b[39;49m\u001b[43m:\u001b[49m\u001b[43m \u001b[49m\u001b[43mmetadata\u001b[49m\u001b[43m,\u001b[49m\n\u001b[32m    940\u001b[39m \u001b[43m                \u001b[49m\u001b[33;43m\"\u001b[39;49m\u001b[33;43mmodalities\u001b[39;49m\u001b[33;43m\"\u001b[39;49m\u001b[43m:\u001b[49m\u001b[43m \u001b[49m\u001b[43mmodalities\u001b[49m\u001b[43m,\u001b[49m\n\u001b[32m    941\u001b[39m \u001b[43m                \u001b[49m\u001b[33;43m\"\u001b[39;49m\u001b[33;43mn\u001b[39;49m\u001b[33;43m\"\u001b[39;49m\u001b[43m:\u001b[49m\u001b[43m \u001b[49m\u001b[43mn\u001b[49m\u001b[43m,\u001b[49m\n\u001b[32m    942\u001b[39m \u001b[43m                \u001b[49m\u001b[33;43m\"\u001b[39;49m\u001b[33;43mparallel_tool_calls\u001b[39;49m\u001b[33;43m\"\u001b[39;49m\u001b[43m:\u001b[49m\u001b[43m \u001b[49m\u001b[43mparallel_tool_calls\u001b[49m\u001b[43m,\u001b[49m\n\u001b[32m    943\u001b[39m \u001b[43m                \u001b[49m\u001b[33;43m\"\u001b[39;49m\u001b[33;43mprediction\u001b[39;49m\u001b[33;43m\"\u001b[39;49m\u001b[43m:\u001b[49m\u001b[43m \u001b[49m\u001b[43mprediction\u001b[49m\u001b[43m,\u001b[49m\n\u001b[32m    944\u001b[39m \u001b[43m                \u001b[49m\u001b[33;43m\"\u001b[39;49m\u001b[33;43mpresence_penalty\u001b[39;49m\u001b[33;43m\"\u001b[39;49m\u001b[43m:\u001b[49m\u001b[43m \u001b[49m\u001b[43mpresence_penalty\u001b[49m\u001b[43m,\u001b[49m\n\u001b[32m    945\u001b[39m \u001b[43m                \u001b[49m\u001b[33;43m\"\u001b[39;49m\u001b[33;43mreasoning_effort\u001b[39;49m\u001b[33;43m\"\u001b[39;49m\u001b[43m:\u001b[49m\u001b[43m \u001b[49m\u001b[43mreasoning_effort\u001b[49m\u001b[43m,\u001b[49m\n\u001b[32m    946\u001b[39m \u001b[43m                \u001b[49m\u001b[33;43m\"\u001b[39;49m\u001b[33;43mresponse_format\u001b[39;49m\u001b[33;43m\"\u001b[39;49m\u001b[43m:\u001b[49m\u001b[43m \u001b[49m\u001b[43mresponse_format\u001b[49m\u001b[43m,\u001b[49m\n\u001b[32m    947\u001b[39m \u001b[43m                \u001b[49m\u001b[33;43m\"\u001b[39;49m\u001b[33;43mseed\u001b[39;49m\u001b[33;43m\"\u001b[39;49m\u001b[43m:\u001b[49m\u001b[43m \u001b[49m\u001b[43mseed\u001b[49m\u001b[43m,\u001b[49m\n\u001b[32m    948\u001b[39m \u001b[43m                \u001b[49m\u001b[33;43m\"\u001b[39;49m\u001b[33;43mservice_tier\u001b[39;49m\u001b[33;43m\"\u001b[39;49m\u001b[43m:\u001b[49m\u001b[43m \u001b[49m\u001b[43mservice_tier\u001b[49m\u001b[43m,\u001b[49m\n\u001b[32m    949\u001b[39m \u001b[43m                \u001b[49m\u001b[33;43m\"\u001b[39;49m\u001b[33;43mstop\u001b[39;49m\u001b[33;43m\"\u001b[39;49m\u001b[43m:\u001b[49m\u001b[43m \u001b[49m\u001b[43mstop\u001b[49m\u001b[43m,\u001b[49m\n\u001b[32m    950\u001b[39m \u001b[43m                \u001b[49m\u001b[33;43m\"\u001b[39;49m\u001b[33;43mstore\u001b[39;49m\u001b[33;43m\"\u001b[39;49m\u001b[43m:\u001b[49m\u001b[43m \u001b[49m\u001b[43mstore\u001b[49m\u001b[43m,\u001b[49m\n\u001b[32m    951\u001b[39m \u001b[43m                \u001b[49m\u001b[33;43m\"\u001b[39;49m\u001b[33;43mstream\u001b[39;49m\u001b[33;43m\"\u001b[39;49m\u001b[43m:\u001b[49m\u001b[43m \u001b[49m\u001b[43mstream\u001b[49m\u001b[43m,\u001b[49m\n\u001b[32m    952\u001b[39m \u001b[43m                \u001b[49m\u001b[33;43m\"\u001b[39;49m\u001b[33;43mstream_options\u001b[39;49m\u001b[33;43m\"\u001b[39;49m\u001b[43m:\u001b[49m\u001b[43m \u001b[49m\u001b[43mstream_options\u001b[49m\u001b[43m,\u001b[49m\n\u001b[32m    953\u001b[39m \u001b[43m                \u001b[49m\u001b[33;43m\"\u001b[39;49m\u001b[33;43mtemperature\u001b[39;49m\u001b[33;43m\"\u001b[39;49m\u001b[43m:\u001b[49m\u001b[43m \u001b[49m\u001b[43mtemperature\u001b[49m\u001b[43m,\u001b[49m\n\u001b[32m    954\u001b[39m \u001b[43m                \u001b[49m\u001b[33;43m\"\u001b[39;49m\u001b[33;43mtool_choice\u001b[39;49m\u001b[33;43m\"\u001b[39;49m\u001b[43m:\u001b[49m\u001b[43m \u001b[49m\u001b[43mtool_choice\u001b[49m\u001b[43m,\u001b[49m\n\u001b[32m    955\u001b[39m \u001b[43m                \u001b[49m\u001b[33;43m\"\u001b[39;49m\u001b[33;43mtools\u001b[39;49m\u001b[33;43m\"\u001b[39;49m\u001b[43m:\u001b[49m\u001b[43m \u001b[49m\u001b[43mtools\u001b[49m\u001b[43m,\u001b[49m\n\u001b[32m    956\u001b[39m \u001b[43m                \u001b[49m\u001b[33;43m\"\u001b[39;49m\u001b[33;43mtop_logprobs\u001b[39;49m\u001b[33;43m\"\u001b[39;49m\u001b[43m:\u001b[49m\u001b[43m \u001b[49m\u001b[43mtop_logprobs\u001b[49m\u001b[43m,\u001b[49m\n\u001b[32m    957\u001b[39m \u001b[43m                \u001b[49m\u001b[33;43m\"\u001b[39;49m\u001b[33;43mtop_p\u001b[39;49m\u001b[33;43m\"\u001b[39;49m\u001b[43m:\u001b[49m\u001b[43m \u001b[49m\u001b[43mtop_p\u001b[49m\u001b[43m,\u001b[49m\n\u001b[32m    958\u001b[39m \u001b[43m                \u001b[49m\u001b[33;43m\"\u001b[39;49m\u001b[33;43muser\u001b[39;49m\u001b[33;43m\"\u001b[39;49m\u001b[43m:\u001b[49m\u001b[43m \u001b[49m\u001b[43muser\u001b[49m\u001b[43m,\u001b[49m\n\u001b[32m    959\u001b[39m \u001b[43m                \u001b[49m\u001b[33;43m\"\u001b[39;49m\u001b[33;43mweb_search_options\u001b[39;49m\u001b[33;43m\"\u001b[39;49m\u001b[43m:\u001b[49m\u001b[43m \u001b[49m\u001b[43mweb_search_options\u001b[49m\u001b[43m,\u001b[49m\n\u001b[32m    960\u001b[39m \u001b[43m            \u001b[49m\u001b[43m}\u001b[49m\u001b[43m,\u001b[49m\n\u001b[32m    961\u001b[39m \u001b[43m            \u001b[49m\u001b[43mcompletion_create_params\u001b[49m\u001b[43m.\u001b[49m\u001b[43mCompletionCreateParamsStreaming\u001b[49m\n\u001b[32m    962\u001b[39m \u001b[43m            \u001b[49m\u001b[38;5;28;43;01mif\u001b[39;49;00m\u001b[43m \u001b[49m\u001b[43mstream\u001b[49m\n\u001b[32m    963\u001b[39m \u001b[43m            \u001b[49m\u001b[38;5;28;43;01melse\u001b[39;49;00m\u001b[43m \u001b[49m\u001b[43mcompletion_create_params\u001b[49m\u001b[43m.\u001b[49m\u001b[43mCompletionCreateParamsNonStreaming\u001b[49m\u001b[43m,\u001b[49m\n\u001b[32m    964\u001b[39m \u001b[43m        \u001b[49m\u001b[43m)\u001b[49m\u001b[43m,\u001b[49m\n\u001b[32m    965\u001b[39m \u001b[43m        \u001b[49m\u001b[43moptions\u001b[49m\u001b[43m=\u001b[49m\u001b[43mmake_request_options\u001b[49m\u001b[43m(\u001b[49m\n\u001b[32m    966\u001b[39m \u001b[43m            \u001b[49m\u001b[43mextra_headers\u001b[49m\u001b[43m=\u001b[49m\u001b[43mextra_headers\u001b[49m\u001b[43m,\u001b[49m\u001b[43m \u001b[49m\u001b[43mextra_query\u001b[49m\u001b[43m=\u001b[49m\u001b[43mextra_query\u001b[49m\u001b[43m,\u001b[49m\u001b[43m \u001b[49m\u001b[43mextra_body\u001b[49m\u001b[43m=\u001b[49m\u001b[43mextra_body\u001b[49m\u001b[43m,\u001b[49m\u001b[43m \u001b[49m\u001b[43mtimeout\u001b[49m\u001b[43m=\u001b[49m\u001b[43mtimeout\u001b[49m\n\u001b[32m    967\u001b[39m \u001b[43m        \u001b[49m\u001b[43m)\u001b[49m\u001b[43m,\u001b[49m\n\u001b[32m    968\u001b[39m \u001b[43m        \u001b[49m\u001b[43mcast_to\u001b[49m\u001b[43m=\u001b[49m\u001b[43mChatCompletion\u001b[49m\u001b[43m,\u001b[49m\n\u001b[32m    969\u001b[39m \u001b[43m        \u001b[49m\u001b[43mstream\u001b[49m\u001b[43m=\u001b[49m\u001b[43mstream\u001b[49m\u001b[43m \u001b[49m\u001b[38;5;129;43;01mor\u001b[39;49;00m\u001b[43m \u001b[49m\u001b[38;5;28;43;01mFalse\u001b[39;49;00m\u001b[43m,\u001b[49m\n\u001b[32m    970\u001b[39m \u001b[43m        \u001b[49m\u001b[43mstream_cls\u001b[49m\u001b[43m=\u001b[49m\u001b[43mStream\u001b[49m\u001b[43m[\u001b[49m\u001b[43mChatCompletionChunk\u001b[49m\u001b[43m]\u001b[49m\u001b[43m,\u001b[49m\n\u001b[32m    971\u001b[39m \u001b[43m    \u001b[49m\u001b[43m)\u001b[49m\n",
      "\u001b[36mFile \u001b[39m\u001b[32m~/projects/agents/.venv/lib/python3.12/site-packages/openai/_base_client.py:1239\u001b[39m, in \u001b[36mSyncAPIClient.post\u001b[39m\u001b[34m(self, path, cast_to, body, options, files, stream, stream_cls)\u001b[39m\n\u001b[32m   1225\u001b[39m \u001b[38;5;28;01mdef\u001b[39;00m\u001b[38;5;250m \u001b[39m\u001b[34mpost\u001b[39m(\n\u001b[32m   1226\u001b[39m     \u001b[38;5;28mself\u001b[39m,\n\u001b[32m   1227\u001b[39m     path: \u001b[38;5;28mstr\u001b[39m,\n\u001b[32m   (...)\u001b[39m\u001b[32m   1234\u001b[39m     stream_cls: \u001b[38;5;28mtype\u001b[39m[_StreamT] | \u001b[38;5;28;01mNone\u001b[39;00m = \u001b[38;5;28;01mNone\u001b[39;00m,\n\u001b[32m   1235\u001b[39m ) -> ResponseT | _StreamT:\n\u001b[32m   1236\u001b[39m     opts = FinalRequestOptions.construct(\n\u001b[32m   1237\u001b[39m         method=\u001b[33m\"\u001b[39m\u001b[33mpost\u001b[39m\u001b[33m\"\u001b[39m, url=path, json_data=body, files=to_httpx_files(files), **options\n\u001b[32m   1238\u001b[39m     )\n\u001b[32m-> \u001b[39m\u001b[32m1239\u001b[39m     \u001b[38;5;28;01mreturn\u001b[39;00m cast(ResponseT, \u001b[38;5;28;43mself\u001b[39;49m\u001b[43m.\u001b[49m\u001b[43mrequest\u001b[49m\u001b[43m(\u001b[49m\u001b[43mcast_to\u001b[49m\u001b[43m,\u001b[49m\u001b[43m \u001b[49m\u001b[43mopts\u001b[49m\u001b[43m,\u001b[49m\u001b[43m \u001b[49m\u001b[43mstream\u001b[49m\u001b[43m=\u001b[49m\u001b[43mstream\u001b[49m\u001b[43m,\u001b[49m\u001b[43m \u001b[49m\u001b[43mstream_cls\u001b[49m\u001b[43m=\u001b[49m\u001b[43mstream_cls\u001b[49m\u001b[43m)\u001b[49m)\n",
      "\u001b[36mFile \u001b[39m\u001b[32m~/projects/agents/.venv/lib/python3.12/site-packages/openai/_base_client.py:969\u001b[39m, in \u001b[36mSyncAPIClient.request\u001b[39m\u001b[34m(self, cast_to, options, stream, stream_cls)\u001b[39m\n\u001b[32m    967\u001b[39m response = \u001b[38;5;28;01mNone\u001b[39;00m\n\u001b[32m    968\u001b[39m \u001b[38;5;28;01mtry\u001b[39;00m:\n\u001b[32m--> \u001b[39m\u001b[32m969\u001b[39m     response = \u001b[38;5;28;43mself\u001b[39;49m\u001b[43m.\u001b[49m\u001b[43m_client\u001b[49m\u001b[43m.\u001b[49m\u001b[43msend\u001b[49m\u001b[43m(\u001b[49m\n\u001b[32m    970\u001b[39m \u001b[43m        \u001b[49m\u001b[43mrequest\u001b[49m\u001b[43m,\u001b[49m\n\u001b[32m    971\u001b[39m \u001b[43m        \u001b[49m\u001b[43mstream\u001b[49m\u001b[43m=\u001b[49m\u001b[43mstream\u001b[49m\u001b[43m \u001b[49m\u001b[38;5;129;43;01mor\u001b[39;49;00m\u001b[43m \u001b[49m\u001b[38;5;28;43mself\u001b[39;49m\u001b[43m.\u001b[49m\u001b[43m_should_stream_response_body\u001b[49m\u001b[43m(\u001b[49m\u001b[43mrequest\u001b[49m\u001b[43m=\u001b[49m\u001b[43mrequest\u001b[49m\u001b[43m)\u001b[49m\u001b[43m,\u001b[49m\n\u001b[32m    972\u001b[39m \u001b[43m        \u001b[49m\u001b[43m*\u001b[49m\u001b[43m*\u001b[49m\u001b[43mkwargs\u001b[49m\u001b[43m,\u001b[49m\n\u001b[32m    973\u001b[39m \u001b[43m    \u001b[49m\u001b[43m)\u001b[49m\n\u001b[32m    974\u001b[39m \u001b[38;5;28;01mexcept\u001b[39;00m httpx.TimeoutException \u001b[38;5;28;01mas\u001b[39;00m err:\n\u001b[32m    975\u001b[39m     log.debug(\u001b[33m\"\u001b[39m\u001b[33mEncountered httpx.TimeoutException\u001b[39m\u001b[33m\"\u001b[39m, exc_info=\u001b[38;5;28;01mTrue\u001b[39;00m)\n",
      "\u001b[36mFile \u001b[39m\u001b[32m~/projects/agents/.venv/lib/python3.12/site-packages/httpx/_client.py:914\u001b[39m, in \u001b[36mClient.send\u001b[39m\u001b[34m(self, request, stream, auth, follow_redirects)\u001b[39m\n\u001b[32m    910\u001b[39m \u001b[38;5;28mself\u001b[39m._set_timeout(request)\n\u001b[32m    912\u001b[39m auth = \u001b[38;5;28mself\u001b[39m._build_request_auth(request, auth)\n\u001b[32m--> \u001b[39m\u001b[32m914\u001b[39m response = \u001b[38;5;28;43mself\u001b[39;49m\u001b[43m.\u001b[49m\u001b[43m_send_handling_auth\u001b[49m\u001b[43m(\u001b[49m\n\u001b[32m    915\u001b[39m \u001b[43m    \u001b[49m\u001b[43mrequest\u001b[49m\u001b[43m,\u001b[49m\n\u001b[32m    916\u001b[39m \u001b[43m    \u001b[49m\u001b[43mauth\u001b[49m\u001b[43m=\u001b[49m\u001b[43mauth\u001b[49m\u001b[43m,\u001b[49m\n\u001b[32m    917\u001b[39m \u001b[43m    \u001b[49m\u001b[43mfollow_redirects\u001b[49m\u001b[43m=\u001b[49m\u001b[43mfollow_redirects\u001b[49m\u001b[43m,\u001b[49m\n\u001b[32m    918\u001b[39m \u001b[43m    \u001b[49m\u001b[43mhistory\u001b[49m\u001b[43m=\u001b[49m\u001b[43m[\u001b[49m\u001b[43m]\u001b[49m\u001b[43m,\u001b[49m\n\u001b[32m    919\u001b[39m \u001b[43m\u001b[49m\u001b[43m)\u001b[49m\n\u001b[32m    920\u001b[39m \u001b[38;5;28;01mtry\u001b[39;00m:\n\u001b[32m    921\u001b[39m     \u001b[38;5;28;01mif\u001b[39;00m \u001b[38;5;129;01mnot\u001b[39;00m stream:\n",
      "\u001b[36mFile \u001b[39m\u001b[32m~/projects/agents/.venv/lib/python3.12/site-packages/httpx/_client.py:942\u001b[39m, in \u001b[36mClient._send_handling_auth\u001b[39m\u001b[34m(self, request, auth, follow_redirects, history)\u001b[39m\n\u001b[32m    939\u001b[39m request = \u001b[38;5;28mnext\u001b[39m(auth_flow)\n\u001b[32m    941\u001b[39m \u001b[38;5;28;01mwhile\u001b[39;00m \u001b[38;5;28;01mTrue\u001b[39;00m:\n\u001b[32m--> \u001b[39m\u001b[32m942\u001b[39m     response = \u001b[38;5;28;43mself\u001b[39;49m\u001b[43m.\u001b[49m\u001b[43m_send_handling_redirects\u001b[49m\u001b[43m(\u001b[49m\n\u001b[32m    943\u001b[39m \u001b[43m        \u001b[49m\u001b[43mrequest\u001b[49m\u001b[43m,\u001b[49m\n\u001b[32m    944\u001b[39m \u001b[43m        \u001b[49m\u001b[43mfollow_redirects\u001b[49m\u001b[43m=\u001b[49m\u001b[43mfollow_redirects\u001b[49m\u001b[43m,\u001b[49m\n\u001b[32m    945\u001b[39m \u001b[43m        \u001b[49m\u001b[43mhistory\u001b[49m\u001b[43m=\u001b[49m\u001b[43mhistory\u001b[49m\u001b[43m,\u001b[49m\n\u001b[32m    946\u001b[39m \u001b[43m    \u001b[49m\u001b[43m)\u001b[49m\n\u001b[32m    947\u001b[39m     \u001b[38;5;28;01mtry\u001b[39;00m:\n\u001b[32m    948\u001b[39m         \u001b[38;5;28;01mtry\u001b[39;00m:\n",
      "\u001b[36mFile \u001b[39m\u001b[32m~/projects/agents/.venv/lib/python3.12/site-packages/httpx/_client.py:979\u001b[39m, in \u001b[36mClient._send_handling_redirects\u001b[39m\u001b[34m(self, request, follow_redirects, history)\u001b[39m\n\u001b[32m    976\u001b[39m \u001b[38;5;28;01mfor\u001b[39;00m hook \u001b[38;5;129;01min\u001b[39;00m \u001b[38;5;28mself\u001b[39m._event_hooks[\u001b[33m\"\u001b[39m\u001b[33mrequest\u001b[39m\u001b[33m\"\u001b[39m]:\n\u001b[32m    977\u001b[39m     hook(request)\n\u001b[32m--> \u001b[39m\u001b[32m979\u001b[39m response = \u001b[38;5;28;43mself\u001b[39;49m\u001b[43m.\u001b[49m\u001b[43m_send_single_request\u001b[49m\u001b[43m(\u001b[49m\u001b[43mrequest\u001b[49m\u001b[43m)\u001b[49m\n\u001b[32m    980\u001b[39m \u001b[38;5;28;01mtry\u001b[39;00m:\n\u001b[32m    981\u001b[39m     \u001b[38;5;28;01mfor\u001b[39;00m hook \u001b[38;5;129;01min\u001b[39;00m \u001b[38;5;28mself\u001b[39m._event_hooks[\u001b[33m\"\u001b[39m\u001b[33mresponse\u001b[39m\u001b[33m\"\u001b[39m]:\n",
      "\u001b[36mFile \u001b[39m\u001b[32m~/projects/agents/.venv/lib/python3.12/site-packages/httpx/_client.py:1014\u001b[39m, in \u001b[36mClient._send_single_request\u001b[39m\u001b[34m(self, request)\u001b[39m\n\u001b[32m   1009\u001b[39m     \u001b[38;5;28;01mraise\u001b[39;00m \u001b[38;5;167;01mRuntimeError\u001b[39;00m(\n\u001b[32m   1010\u001b[39m         \u001b[33m\"\u001b[39m\u001b[33mAttempted to send an async request with a sync Client instance.\u001b[39m\u001b[33m\"\u001b[39m\n\u001b[32m   1011\u001b[39m     )\n\u001b[32m   1013\u001b[39m \u001b[38;5;28;01mwith\u001b[39;00m request_context(request=request):\n\u001b[32m-> \u001b[39m\u001b[32m1014\u001b[39m     response = \u001b[43mtransport\u001b[49m\u001b[43m.\u001b[49m\u001b[43mhandle_request\u001b[49m\u001b[43m(\u001b[49m\u001b[43mrequest\u001b[49m\u001b[43m)\u001b[49m\n\u001b[32m   1016\u001b[39m \u001b[38;5;28;01massert\u001b[39;00m \u001b[38;5;28misinstance\u001b[39m(response.stream, SyncByteStream)\n\u001b[32m   1018\u001b[39m response.request = request\n",
      "\u001b[36mFile \u001b[39m\u001b[32m~/projects/agents/.venv/lib/python3.12/site-packages/httpx/_transports/default.py:250\u001b[39m, in \u001b[36mHTTPTransport.handle_request\u001b[39m\u001b[34m(self, request)\u001b[39m\n\u001b[32m    237\u001b[39m req = httpcore.Request(\n\u001b[32m    238\u001b[39m     method=request.method,\n\u001b[32m    239\u001b[39m     url=httpcore.URL(\n\u001b[32m   (...)\u001b[39m\u001b[32m    247\u001b[39m     extensions=request.extensions,\n\u001b[32m    248\u001b[39m )\n\u001b[32m    249\u001b[39m \u001b[38;5;28;01mwith\u001b[39;00m map_httpcore_exceptions():\n\u001b[32m--> \u001b[39m\u001b[32m250\u001b[39m     resp = \u001b[38;5;28;43mself\u001b[39;49m\u001b[43m.\u001b[49m\u001b[43m_pool\u001b[49m\u001b[43m.\u001b[49m\u001b[43mhandle_request\u001b[49m\u001b[43m(\u001b[49m\u001b[43mreq\u001b[49m\u001b[43m)\u001b[49m\n\u001b[32m    252\u001b[39m \u001b[38;5;28;01massert\u001b[39;00m \u001b[38;5;28misinstance\u001b[39m(resp.stream, typing.Iterable)\n\u001b[32m    254\u001b[39m \u001b[38;5;28;01mreturn\u001b[39;00m Response(\n\u001b[32m    255\u001b[39m     status_code=resp.status,\n\u001b[32m    256\u001b[39m     headers=resp.headers,\n\u001b[32m    257\u001b[39m     stream=ResponseStream(resp.stream),\n\u001b[32m    258\u001b[39m     extensions=resp.extensions,\n\u001b[32m    259\u001b[39m )\n",
      "\u001b[36mFile \u001b[39m\u001b[32m~/projects/agents/.venv/lib/python3.12/site-packages/httpcore/_sync/connection_pool.py:256\u001b[39m, in \u001b[36mConnectionPool.handle_request\u001b[39m\u001b[34m(self, request)\u001b[39m\n\u001b[32m    253\u001b[39m         closing = \u001b[38;5;28mself\u001b[39m._assign_requests_to_connections()\n\u001b[32m    255\u001b[39m     \u001b[38;5;28mself\u001b[39m._close_connections(closing)\n\u001b[32m--> \u001b[39m\u001b[32m256\u001b[39m     \u001b[38;5;28;01mraise\u001b[39;00m exc \u001b[38;5;28;01mfrom\u001b[39;00m\u001b[38;5;250m \u001b[39m\u001b[38;5;28;01mNone\u001b[39;00m\n\u001b[32m    258\u001b[39m \u001b[38;5;66;03m# Return the response. Note that in this case we still have to manage\u001b[39;00m\n\u001b[32m    259\u001b[39m \u001b[38;5;66;03m# the point at which the response is closed.\u001b[39;00m\n\u001b[32m    260\u001b[39m \u001b[38;5;28;01massert\u001b[39;00m \u001b[38;5;28misinstance\u001b[39m(response.stream, typing.Iterable)\n",
      "\u001b[36mFile \u001b[39m\u001b[32m~/projects/agents/.venv/lib/python3.12/site-packages/httpcore/_sync/connection_pool.py:236\u001b[39m, in \u001b[36mConnectionPool.handle_request\u001b[39m\u001b[34m(self, request)\u001b[39m\n\u001b[32m    232\u001b[39m connection = pool_request.wait_for_connection(timeout=timeout)\n\u001b[32m    234\u001b[39m \u001b[38;5;28;01mtry\u001b[39;00m:\n\u001b[32m    235\u001b[39m     \u001b[38;5;66;03m# Send the request on the assigned connection.\u001b[39;00m\n\u001b[32m--> \u001b[39m\u001b[32m236\u001b[39m     response = \u001b[43mconnection\u001b[49m\u001b[43m.\u001b[49m\u001b[43mhandle_request\u001b[49m\u001b[43m(\u001b[49m\n\u001b[32m    237\u001b[39m \u001b[43m        \u001b[49m\u001b[43mpool_request\u001b[49m\u001b[43m.\u001b[49m\u001b[43mrequest\u001b[49m\n\u001b[32m    238\u001b[39m \u001b[43m    \u001b[49m\u001b[43m)\u001b[49m\n\u001b[32m    239\u001b[39m \u001b[38;5;28;01mexcept\u001b[39;00m ConnectionNotAvailable:\n\u001b[32m    240\u001b[39m     \u001b[38;5;66;03m# In some cases a connection may initially be available to\u001b[39;00m\n\u001b[32m    241\u001b[39m     \u001b[38;5;66;03m# handle a request, but then become unavailable.\u001b[39;00m\n\u001b[32m    242\u001b[39m     \u001b[38;5;66;03m#\u001b[39;00m\n\u001b[32m    243\u001b[39m     \u001b[38;5;66;03m# In this case we clear the connection and try again.\u001b[39;00m\n\u001b[32m    244\u001b[39m     pool_request.clear_connection()\n",
      "\u001b[36mFile \u001b[39m\u001b[32m~/projects/agents/.venv/lib/python3.12/site-packages/httpcore/_sync/connection.py:103\u001b[39m, in \u001b[36mHTTPConnection.handle_request\u001b[39m\u001b[34m(self, request)\u001b[39m\n\u001b[32m    100\u001b[39m     \u001b[38;5;28mself\u001b[39m._connect_failed = \u001b[38;5;28;01mTrue\u001b[39;00m\n\u001b[32m    101\u001b[39m     \u001b[38;5;28;01mraise\u001b[39;00m exc\n\u001b[32m--> \u001b[39m\u001b[32m103\u001b[39m \u001b[38;5;28;01mreturn\u001b[39;00m \u001b[38;5;28;43mself\u001b[39;49m\u001b[43m.\u001b[49m\u001b[43m_connection\u001b[49m\u001b[43m.\u001b[49m\u001b[43mhandle_request\u001b[49m\u001b[43m(\u001b[49m\u001b[43mrequest\u001b[49m\u001b[43m)\u001b[49m\n",
      "\u001b[36mFile \u001b[39m\u001b[32m~/projects/agents/.venv/lib/python3.12/site-packages/httpcore/_sync/http11.py:136\u001b[39m, in \u001b[36mHTTP11Connection.handle_request\u001b[39m\u001b[34m(self, request)\u001b[39m\n\u001b[32m    134\u001b[39m     \u001b[38;5;28;01mwith\u001b[39;00m Trace(\u001b[33m\"\u001b[39m\u001b[33mresponse_closed\u001b[39m\u001b[33m\"\u001b[39m, logger, request) \u001b[38;5;28;01mas\u001b[39;00m trace:\n\u001b[32m    135\u001b[39m         \u001b[38;5;28mself\u001b[39m._response_closed()\n\u001b[32m--> \u001b[39m\u001b[32m136\u001b[39m \u001b[38;5;28;01mraise\u001b[39;00m exc\n",
      "\u001b[36mFile \u001b[39m\u001b[32m~/projects/agents/.venv/lib/python3.12/site-packages/httpcore/_sync/http11.py:106\u001b[39m, in \u001b[36mHTTP11Connection.handle_request\u001b[39m\u001b[34m(self, request)\u001b[39m\n\u001b[32m     95\u001b[39m     \u001b[38;5;28;01mpass\u001b[39;00m\n\u001b[32m     97\u001b[39m \u001b[38;5;28;01mwith\u001b[39;00m Trace(\n\u001b[32m     98\u001b[39m     \u001b[33m\"\u001b[39m\u001b[33mreceive_response_headers\u001b[39m\u001b[33m\"\u001b[39m, logger, request, kwargs\n\u001b[32m     99\u001b[39m ) \u001b[38;5;28;01mas\u001b[39;00m trace:\n\u001b[32m    100\u001b[39m     (\n\u001b[32m    101\u001b[39m         http_version,\n\u001b[32m    102\u001b[39m         status,\n\u001b[32m    103\u001b[39m         reason_phrase,\n\u001b[32m    104\u001b[39m         headers,\n\u001b[32m    105\u001b[39m         trailing_data,\n\u001b[32m--> \u001b[39m\u001b[32m106\u001b[39m     ) = \u001b[38;5;28;43mself\u001b[39;49m\u001b[43m.\u001b[49m\u001b[43m_receive_response_headers\u001b[49m\u001b[43m(\u001b[49m\u001b[43m*\u001b[49m\u001b[43m*\u001b[49m\u001b[43mkwargs\u001b[49m\u001b[43m)\u001b[49m\n\u001b[32m    107\u001b[39m     trace.return_value = (\n\u001b[32m    108\u001b[39m         http_version,\n\u001b[32m    109\u001b[39m         status,\n\u001b[32m    110\u001b[39m         reason_phrase,\n\u001b[32m    111\u001b[39m         headers,\n\u001b[32m    112\u001b[39m     )\n\u001b[32m    114\u001b[39m network_stream = \u001b[38;5;28mself\u001b[39m._network_stream\n",
      "\u001b[36mFile \u001b[39m\u001b[32m~/projects/agents/.venv/lib/python3.12/site-packages/httpcore/_sync/http11.py:177\u001b[39m, in \u001b[36mHTTP11Connection._receive_response_headers\u001b[39m\u001b[34m(self, request)\u001b[39m\n\u001b[32m    174\u001b[39m timeout = timeouts.get(\u001b[33m\"\u001b[39m\u001b[33mread\u001b[39m\u001b[33m\"\u001b[39m, \u001b[38;5;28;01mNone\u001b[39;00m)\n\u001b[32m    176\u001b[39m \u001b[38;5;28;01mwhile\u001b[39;00m \u001b[38;5;28;01mTrue\u001b[39;00m:\n\u001b[32m--> \u001b[39m\u001b[32m177\u001b[39m     event = \u001b[38;5;28;43mself\u001b[39;49m\u001b[43m.\u001b[49m\u001b[43m_receive_event\u001b[49m\u001b[43m(\u001b[49m\u001b[43mtimeout\u001b[49m\u001b[43m=\u001b[49m\u001b[43mtimeout\u001b[49m\u001b[43m)\u001b[49m\n\u001b[32m    178\u001b[39m     \u001b[38;5;28;01mif\u001b[39;00m \u001b[38;5;28misinstance\u001b[39m(event, h11.Response):\n\u001b[32m    179\u001b[39m         \u001b[38;5;28;01mbreak\u001b[39;00m\n",
      "\u001b[36mFile \u001b[39m\u001b[32m~/projects/agents/.venv/lib/python3.12/site-packages/httpcore/_sync/http11.py:217\u001b[39m, in \u001b[36mHTTP11Connection._receive_event\u001b[39m\u001b[34m(self, timeout)\u001b[39m\n\u001b[32m    214\u001b[39m     event = \u001b[38;5;28mself\u001b[39m._h11_state.next_event()\n\u001b[32m    216\u001b[39m \u001b[38;5;28;01mif\u001b[39;00m event \u001b[38;5;129;01mis\u001b[39;00m h11.NEED_DATA:\n\u001b[32m--> \u001b[39m\u001b[32m217\u001b[39m     data = \u001b[38;5;28;43mself\u001b[39;49m\u001b[43m.\u001b[49m\u001b[43m_network_stream\u001b[49m\u001b[43m.\u001b[49m\u001b[43mread\u001b[49m\u001b[43m(\u001b[49m\n\u001b[32m    218\u001b[39m \u001b[43m        \u001b[49m\u001b[38;5;28;43mself\u001b[39;49m\u001b[43m.\u001b[49m\u001b[43mREAD_NUM_BYTES\u001b[49m\u001b[43m,\u001b[49m\u001b[43m \u001b[49m\u001b[43mtimeout\u001b[49m\u001b[43m=\u001b[49m\u001b[43mtimeout\u001b[49m\n\u001b[32m    219\u001b[39m \u001b[43m    \u001b[49m\u001b[43m)\u001b[49m\n\u001b[32m    221\u001b[39m     \u001b[38;5;66;03m# If we feed this case through h11 we'll raise an exception like:\u001b[39;00m\n\u001b[32m    222\u001b[39m     \u001b[38;5;66;03m#\u001b[39;00m\n\u001b[32m    223\u001b[39m     \u001b[38;5;66;03m#     httpcore.RemoteProtocolError: can't handle event type\u001b[39;00m\n\u001b[32m   (...)\u001b[39m\u001b[32m    227\u001b[39m     \u001b[38;5;66;03m# perspective. Instead we handle this case distinctly and treat\u001b[39;00m\n\u001b[32m    228\u001b[39m     \u001b[38;5;66;03m# it as a ConnectError.\u001b[39;00m\n\u001b[32m    229\u001b[39m     \u001b[38;5;28;01mif\u001b[39;00m data == \u001b[33mb\u001b[39m\u001b[33m\"\u001b[39m\u001b[33m\"\u001b[39m \u001b[38;5;129;01mand\u001b[39;00m \u001b[38;5;28mself\u001b[39m._h11_state.their_state == h11.SEND_RESPONSE:\n",
      "\u001b[36mFile \u001b[39m\u001b[32m~/projects/agents/.venv/lib/python3.12/site-packages/httpcore/_backends/sync.py:128\u001b[39m, in \u001b[36mSyncStream.read\u001b[39m\u001b[34m(self, max_bytes, timeout)\u001b[39m\n\u001b[32m    126\u001b[39m \u001b[38;5;28;01mwith\u001b[39;00m map_exceptions(exc_map):\n\u001b[32m    127\u001b[39m     \u001b[38;5;28mself\u001b[39m._sock.settimeout(timeout)\n\u001b[32m--> \u001b[39m\u001b[32m128\u001b[39m     \u001b[38;5;28;01mreturn\u001b[39;00m \u001b[38;5;28;43mself\u001b[39;49m\u001b[43m.\u001b[49m\u001b[43m_sock\u001b[49m\u001b[43m.\u001b[49m\u001b[43mrecv\u001b[49m\u001b[43m(\u001b[49m\u001b[43mmax_bytes\u001b[49m\u001b[43m)\u001b[49m\n",
      "\u001b[31mKeyboardInterrupt\u001b[39m: "
     ]
    }
   ],
   "source": [
    "ollama = OpenAI(base_url='http://localhost:11434/v1', api_key='ollama')\n",
    "model_name = \"llama3.2\"\n",
    "\n",
    "response = ollama.chat.completions.create(model=model_name, messages=messages)\n",
    "answer = response.choices[0].message.content\n",
    "\n",
    "display(Markdown(answer))\n",
    "competitors.append(model_name)\n",
    "answers.append(answer)"
   ]
  },
  {
   "cell_type": "code",
   "execution_count": 57,
   "metadata": {},
   "outputs": [
    {
     "name": "stdout",
     "output_type": "stream",
     "text": [
      "['gpt-4o-mini', 'claude-3-7-sonnet-latest', 'llama-3.3-70b-versatile']\n",
      "['The cultural narratives surrounding artificial intelligence (AI) significantly influence public perception and ethical considerations in several ways:\\n\\n1. **Fear and Optimism**: Narratives often oscillate between dystopian and utopian views of AI. Dystopian portrayals, seen in films like \"Blade Runner\" or \"The Matrix,\" instill fears of loss of control, job displacement, and existential threats. Conversely, optimistic narratives depict AI as a tool for solving major global challenges, such as climate change and healthcare improvement. These contrasting views shape public attitudes—heightening skepticism and fear among some, while others may embrace AI with enthusiasm, believing it can lead to societal advancements.\\n\\n2. **Representation in Media**: The portrayal of AI in movies, books, and news affects people\\'s understanding and trust in the technology. Sensationalized narratives can lead to misinformed fears or unrealistic expectations, impacting how individuals and organizations engage with AI technologies. Positive representations can contribute to greater acceptance and exploration of AI\\'s potential benefits, while negative portrayals can spur calls for regulation and ethical scrutiny.\\n\\n3. **Cultural Myths and Metaphors**: The way AI is personified in language and culture—often compared to human intelligence or portrayed as a sentient being—can influence how people relate to it. This anthropomorphism can result in both overestimating AI\\'s capabilities and projecting human-like qualities onto machines, leading to mistrust or misplaced expectations regarding moral and ethical considerations.\\n\\n4. **Ethics and Accountability**: Cultural narratives also feed into the ethical discourse surrounding AI. As stories emerge about biased algorithms or unethical AI applications, public outrage often necessitates discussions around accountability, transparency, and fairness. These narratives crystallize into frameworks that guide ethical considerations in AI deployment, impacting how companies and governments approach technology development and regulation.\\n\\n5. **Empowerment vs. Disempowerment**: Narratives can also influence perceptions about who benefits from AI technology. Stories emphasizing worker displacement can create a sense of disempowerment, while those focused on technology enhancing human capabilities can foster feelings of empowerment. The foregrounding of these narratives can lead to movement-building around equitable access to technology and political advocacy for responsible AI deployment.\\n\\nAs AI technology continues to evolve, these cultural narratives may shift in several ways:\\n\\n1. **Integration of AI into Daily Life**: As AI becomes more embedded in everyday applications (like virtual assistants, health diagnostics, etc.), narratives may evolve to reflect a more normalized view of AI, focusing on its benefits and challenges within specific contexts rather than general existential threats.\\n\\n2. **Public Engagement and Education**: Increased education about AI might shift narratives towards informed discussions about its capabilities and limitations, dispelling myths and fostering a more nuanced understanding that incorporates a broad spectrum of views.\\n\\n3. **Global Perspectives**: Cultural narratives surrounding AI will also likely diversify as non-Western perspectives gain prominence. Different cultural contexts may lead to varied interpretations of AI’s role, fostering a deeper discourse on ethics that incorporates manifold viewpoints.\\n\\n4. **Regulatory Developments**: As ethical considerations grow more pressing, narratives around AI might increasingly focus on governance, regulation, and the role of international cooperation in creating standards that address public concerns while fostering innovation.\\n\\n5. **Narratives of Collaboration**: As human-AI collaboration becomes more standard in workplaces and broader society, cultural narratives might shift towards those that emphasize partnership and augmentation rather than replacement and fear.\\n\\nIn conclusion, the interplay between cultural narratives and AI will continue to evolve. The direction of this evolution will depend on societal experiences with AI technologies, shifting fears, aspirations, and the collective decisions made regarding the ethical frameworks that guide their development and deployment.', '# Cultural Narratives and AI Perception\\n\\nCultural narratives about AI significantly shape public perception and ethical frameworks through several mechanisms:\\n\\n**Media Influence**: Science fiction portrayals—from utopian visions like Star Trek\\'s benevolent AI to dystopian warnings in works like \"The Terminator\" or \"Ex Machina\"—create powerful mental frameworks that people apply to real AI developments.\\n\\n**Technological Determinism**: Many narratives present AI advancement as inevitable and autonomous, potentially undermining discussions about human agency in technology governance.\\n\\n**Anthropomorphism**: Our tendency to attribute human qualities to AI systems affects how we conceptualize their capabilities, rights, and potential dangers.\\n\\n**Historical Analogies**: Comparisons to past technological revolutions (industrial, nuclear, digital) frame expectations about AI\\'s societal impact.\\n\\n**Cultural Variations**: Western narratives often emphasize individual autonomy and control, while some Eastern traditions may be more accepting of interdependence with technological systems.\\n\\n## Evolution of AI Narratives\\n\\nAs AI technology advances, these narratives will likely evolve through:\\n\\n1. Increasing nuance as public experience with actual AI systems tempers both utopian and dystopian extremes\\n\\n2. Greater focus on distributional effects rather than existential questions\\n\\n3. Development of new metaphors beyond human intelligence to describe AI capabilities\\n\\n4. Integration of diverse cultural perspectives as AI development globalizes\\n\\n5. Emergence of narratives addressing human-AI collaboration rather than competition\\n\\nThese evolving narratives will significantly influence which ethical frameworks gain prominence in AI governance discussions.', \"The cultural narratives surrounding artificial intelligence (AI) have a significant impact on public perception and ethical considerations of its deployment. These narratives shape how people think about AI, its potential benefits and risks, and the role it should play in society. Here are some ways cultural narratives influence public perception and ethical considerations of AI, and how they might evolve as AI technology advances:\\n\\n**Current cultural narratives:**\\n\\n1. **The Terminator narrative**: This narrative, popularized by the movie franchise, portrays AI as a potential existential threat to humanity. It fuels concerns about AI becoming uncontrollable, autonomous, and hostile.\\n2. **The utopian narrative**: This narrative depicts AI as a solution to many of humanity's problems, such as disease, poverty, and climate change. It emphasizes AI's potential to improve human life and create a better future.\\n3. **The job displacement narrative**: This narrative focuses on the potential negative impact of AI on employment, highlighting the risk of widespread job loss and economic disruption.\\n4. **The surveillance state narrative**: This narrative raises concerns about AI-powered surveillance and the potential erosion of individual privacy and civil liberties.\\n\\n**Influence on public perception:**\\n\\n1. **Fear and mistrust**: The Terminator narrative contributes to public fear and mistrust of AI, leading to concerns about AI's potential risks and unintended consequences.\\n2. **Overemphasis on benefits**: The utopian narrative can create unrealistic expectations about AI's potential benefits, leading to disappointment or disillusionment if these expectations are not met.\\n3. **Job insecurity**: The job displacement narrative fuels anxiety about the impact of AI on employment, potentially leading to resistance to AI adoption.\\n4. **Privacy concerns**: The surveillance state narrative highlights the importance of protecting individual privacy and civil liberties in the face of AI-powered surveillance.\\n\\n**Influence on ethical considerations:**\\n\\n1. **Value alignment**: The cultural narratives surrounding AI influence how we think about aligning AI systems with human values, such as fairness, transparency, and accountability.\\n2. **Responsibility and accountability**: The narratives shape our understanding of who is responsible for AI systems' actions and decisions, and how to hold them accountable.\\n3. **Data governance**: The surveillance state narrative highlights the need for robust data governance frameworks to protect individual privacy and prevent AI-powered surveillance.\\n4. **Transparency and explainability**: The cultural narratives surrounding AI influence the importance we place on transparency and explainability in AI systems, particularly in high-stakes applications like healthcare and finance.\\n\\n**Evolution of cultural narratives:**\\n\\nAs AI technology advances, the cultural narratives surrounding AI are likely to evolve in response to new developments and challenges. Here are some potential trends:\\n\\n1. **Increased nuance**: As AI becomes more ubiquitous, the cultural narratives surrounding AI may become more nuanced, recognizing both the benefits and risks of AI.\\n2. **Shift from fear to fascination**: As AI becomes more integrated into daily life, the public may become more fascinated by AI's potential to improve human life, rather than fearful of its risks.\\n3. **Growing emphasis on human-AI collaboration**: The cultural narratives surrounding AI may shift to emphasize the potential for human-AI collaboration, highlighting the benefits of augmenting human capabilities with AI.\\n4. **Rising concerns about AI bias and fairness**: As AI becomes more pervasive, concerns about AI bias and fairness may become more prominent, leading to increased emphasis on developing and deploying fair and transparent AI systems.\\n\\nUltimately, the cultural narratives surrounding AI will continue to shape public perception and ethical considerations of AI deployment. As AI technology advances, it is essential to engage in ongoing discussions about the implications of AI and its potential impact on society, ensuring that the development and deployment of AI align with human values and promote a better future for all.\"]\n"
     ]
    }
   ],
   "source": [
    "# So where are we?\n",
    "\n",
    "print(competitors)\n",
    "print(answers)\n",
    "\n"
   ]
  },
  {
   "cell_type": "code",
   "execution_count": 58,
   "metadata": {},
   "outputs": [
    {
     "name": "stdout",
     "output_type": "stream",
     "text": [
      "Competitor: gpt-4o-mini\n",
      "\n",
      "The cultural narratives surrounding artificial intelligence (AI) significantly influence public perception and ethical considerations in several ways:\n",
      "\n",
      "1. **Fear and Optimism**: Narratives often oscillate between dystopian and utopian views of AI. Dystopian portrayals, seen in films like \"Blade Runner\" or \"The Matrix,\" instill fears of loss of control, job displacement, and existential threats. Conversely, optimistic narratives depict AI as a tool for solving major global challenges, such as climate change and healthcare improvement. These contrasting views shape public attitudes—heightening skepticism and fear among some, while others may embrace AI with enthusiasm, believing it can lead to societal advancements.\n",
      "\n",
      "2. **Representation in Media**: The portrayal of AI in movies, books, and news affects people's understanding and trust in the technology. Sensationalized narratives can lead to misinformed fears or unrealistic expectations, impacting how individuals and organizations engage with AI technologies. Positive representations can contribute to greater acceptance and exploration of AI's potential benefits, while negative portrayals can spur calls for regulation and ethical scrutiny.\n",
      "\n",
      "3. **Cultural Myths and Metaphors**: The way AI is personified in language and culture—often compared to human intelligence or portrayed as a sentient being—can influence how people relate to it. This anthropomorphism can result in both overestimating AI's capabilities and projecting human-like qualities onto machines, leading to mistrust or misplaced expectations regarding moral and ethical considerations.\n",
      "\n",
      "4. **Ethics and Accountability**: Cultural narratives also feed into the ethical discourse surrounding AI. As stories emerge about biased algorithms or unethical AI applications, public outrage often necessitates discussions around accountability, transparency, and fairness. These narratives crystallize into frameworks that guide ethical considerations in AI deployment, impacting how companies and governments approach technology development and regulation.\n",
      "\n",
      "5. **Empowerment vs. Disempowerment**: Narratives can also influence perceptions about who benefits from AI technology. Stories emphasizing worker displacement can create a sense of disempowerment, while those focused on technology enhancing human capabilities can foster feelings of empowerment. The foregrounding of these narratives can lead to movement-building around equitable access to technology and political advocacy for responsible AI deployment.\n",
      "\n",
      "As AI technology continues to evolve, these cultural narratives may shift in several ways:\n",
      "\n",
      "1. **Integration of AI into Daily Life**: As AI becomes more embedded in everyday applications (like virtual assistants, health diagnostics, etc.), narratives may evolve to reflect a more normalized view of AI, focusing on its benefits and challenges within specific contexts rather than general existential threats.\n",
      "\n",
      "2. **Public Engagement and Education**: Increased education about AI might shift narratives towards informed discussions about its capabilities and limitations, dispelling myths and fostering a more nuanced understanding that incorporates a broad spectrum of views.\n",
      "\n",
      "3. **Global Perspectives**: Cultural narratives surrounding AI will also likely diversify as non-Western perspectives gain prominence. Different cultural contexts may lead to varied interpretations of AI’s role, fostering a deeper discourse on ethics that incorporates manifold viewpoints.\n",
      "\n",
      "4. **Regulatory Developments**: As ethical considerations grow more pressing, narratives around AI might increasingly focus on governance, regulation, and the role of international cooperation in creating standards that address public concerns while fostering innovation.\n",
      "\n",
      "5. **Narratives of Collaboration**: As human-AI collaboration becomes more standard in workplaces and broader society, cultural narratives might shift towards those that emphasize partnership and augmentation rather than replacement and fear.\n",
      "\n",
      "In conclusion, the interplay between cultural narratives and AI will continue to evolve. The direction of this evolution will depend on societal experiences with AI technologies, shifting fears, aspirations, and the collective decisions made regarding the ethical frameworks that guide their development and deployment.\n",
      "Competitor: claude-3-7-sonnet-latest\n",
      "\n",
      "# Cultural Narratives and AI Perception\n",
      "\n",
      "Cultural narratives about AI significantly shape public perception and ethical frameworks through several mechanisms:\n",
      "\n",
      "**Media Influence**: Science fiction portrayals—from utopian visions like Star Trek's benevolent AI to dystopian warnings in works like \"The Terminator\" or \"Ex Machina\"—create powerful mental frameworks that people apply to real AI developments.\n",
      "\n",
      "**Technological Determinism**: Many narratives present AI advancement as inevitable and autonomous, potentially undermining discussions about human agency in technology governance.\n",
      "\n",
      "**Anthropomorphism**: Our tendency to attribute human qualities to AI systems affects how we conceptualize their capabilities, rights, and potential dangers.\n",
      "\n",
      "**Historical Analogies**: Comparisons to past technological revolutions (industrial, nuclear, digital) frame expectations about AI's societal impact.\n",
      "\n",
      "**Cultural Variations**: Western narratives often emphasize individual autonomy and control, while some Eastern traditions may be more accepting of interdependence with technological systems.\n",
      "\n",
      "## Evolution of AI Narratives\n",
      "\n",
      "As AI technology advances, these narratives will likely evolve through:\n",
      "\n",
      "1. Increasing nuance as public experience with actual AI systems tempers both utopian and dystopian extremes\n",
      "\n",
      "2. Greater focus on distributional effects rather than existential questions\n",
      "\n",
      "3. Development of new metaphors beyond human intelligence to describe AI capabilities\n",
      "\n",
      "4. Integration of diverse cultural perspectives as AI development globalizes\n",
      "\n",
      "5. Emergence of narratives addressing human-AI collaboration rather than competition\n",
      "\n",
      "These evolving narratives will significantly influence which ethical frameworks gain prominence in AI governance discussions.\n",
      "Competitor: llama-3.3-70b-versatile\n",
      "\n",
      "The cultural narratives surrounding artificial intelligence (AI) have a significant impact on public perception and ethical considerations of its deployment. These narratives shape how people think about AI, its potential benefits and risks, and the role it should play in society. Here are some ways cultural narratives influence public perception and ethical considerations of AI, and how they might evolve as AI technology advances:\n",
      "\n",
      "**Current cultural narratives:**\n",
      "\n",
      "1. **The Terminator narrative**: This narrative, popularized by the movie franchise, portrays AI as a potential existential threat to humanity. It fuels concerns about AI becoming uncontrollable, autonomous, and hostile.\n",
      "2. **The utopian narrative**: This narrative depicts AI as a solution to many of humanity's problems, such as disease, poverty, and climate change. It emphasizes AI's potential to improve human life and create a better future.\n",
      "3. **The job displacement narrative**: This narrative focuses on the potential negative impact of AI on employment, highlighting the risk of widespread job loss and economic disruption.\n",
      "4. **The surveillance state narrative**: This narrative raises concerns about AI-powered surveillance and the potential erosion of individual privacy and civil liberties.\n",
      "\n",
      "**Influence on public perception:**\n",
      "\n",
      "1. **Fear and mistrust**: The Terminator narrative contributes to public fear and mistrust of AI, leading to concerns about AI's potential risks and unintended consequences.\n",
      "2. **Overemphasis on benefits**: The utopian narrative can create unrealistic expectations about AI's potential benefits, leading to disappointment or disillusionment if these expectations are not met.\n",
      "3. **Job insecurity**: The job displacement narrative fuels anxiety about the impact of AI on employment, potentially leading to resistance to AI adoption.\n",
      "4. **Privacy concerns**: The surveillance state narrative highlights the importance of protecting individual privacy and civil liberties in the face of AI-powered surveillance.\n",
      "\n",
      "**Influence on ethical considerations:**\n",
      "\n",
      "1. **Value alignment**: The cultural narratives surrounding AI influence how we think about aligning AI systems with human values, such as fairness, transparency, and accountability.\n",
      "2. **Responsibility and accountability**: The narratives shape our understanding of who is responsible for AI systems' actions and decisions, and how to hold them accountable.\n",
      "3. **Data governance**: The surveillance state narrative highlights the need for robust data governance frameworks to protect individual privacy and prevent AI-powered surveillance.\n",
      "4. **Transparency and explainability**: The cultural narratives surrounding AI influence the importance we place on transparency and explainability in AI systems, particularly in high-stakes applications like healthcare and finance.\n",
      "\n",
      "**Evolution of cultural narratives:**\n",
      "\n",
      "As AI technology advances, the cultural narratives surrounding AI are likely to evolve in response to new developments and challenges. Here are some potential trends:\n",
      "\n",
      "1. **Increased nuance**: As AI becomes more ubiquitous, the cultural narratives surrounding AI may become more nuanced, recognizing both the benefits and risks of AI.\n",
      "2. **Shift from fear to fascination**: As AI becomes more integrated into daily life, the public may become more fascinated by AI's potential to improve human life, rather than fearful of its risks.\n",
      "3. **Growing emphasis on human-AI collaboration**: The cultural narratives surrounding AI may shift to emphasize the potential for human-AI collaboration, highlighting the benefits of augmenting human capabilities with AI.\n",
      "4. **Rising concerns about AI bias and fairness**: As AI becomes more pervasive, concerns about AI bias and fairness may become more prominent, leading to increased emphasis on developing and deploying fair and transparent AI systems.\n",
      "\n",
      "Ultimately, the cultural narratives surrounding AI will continue to shape public perception and ethical considerations of AI deployment. As AI technology advances, it is essential to engage in ongoing discussions about the implications of AI and its potential impact on society, ensuring that the development and deployment of AI align with human values and promote a better future for all.\n"
     ]
    }
   ],
   "source": [
    "# It's nice to know how to use \"zip\"\n",
    "for competitor, answer in zip(competitors, answers):\n",
    "    print(f\"Competitor: {competitor}\\n\\n{answer}\")\n",
    "\n"
   ]
  },
  {
   "cell_type": "code",
   "execution_count": 59,
   "metadata": {},
   "outputs": [],
   "source": [
    "# Let's bring this together - note the use of \"enumerate\"\n",
    "\n",
    "together = \"\"\n",
    "for index, answer in enumerate(answers):\n",
    "    together += f\"# Response from competitor {index+1}\\n\\n\"\n",
    "    together += answer + \"\\n\\n\""
   ]
  },
  {
   "cell_type": "code",
   "execution_count": 60,
   "metadata": {},
   "outputs": [
    {
     "name": "stdout",
     "output_type": "stream",
     "text": [
      "# Response from competitor 1\n",
      "\n",
      "The cultural narratives surrounding artificial intelligence (AI) significantly influence public perception and ethical considerations in several ways:\n",
      "\n",
      "1. **Fear and Optimism**: Narratives often oscillate between dystopian and utopian views of AI. Dystopian portrayals, seen in films like \"Blade Runner\" or \"The Matrix,\" instill fears of loss of control, job displacement, and existential threats. Conversely, optimistic narratives depict AI as a tool for solving major global challenges, such as climate change and healthcare improvement. These contrasting views shape public attitudes—heightening skepticism and fear among some, while others may embrace AI with enthusiasm, believing it can lead to societal advancements.\n",
      "\n",
      "2. **Representation in Media**: The portrayal of AI in movies, books, and news affects people's understanding and trust in the technology. Sensationalized narratives can lead to misinformed fears or unrealistic expectations, impacting how individuals and organizations engage with AI technologies. Positive representations can contribute to greater acceptance and exploration of AI's potential benefits, while negative portrayals can spur calls for regulation and ethical scrutiny.\n",
      "\n",
      "3. **Cultural Myths and Metaphors**: The way AI is personified in language and culture—often compared to human intelligence or portrayed as a sentient being—can influence how people relate to it. This anthropomorphism can result in both overestimating AI's capabilities and projecting human-like qualities onto machines, leading to mistrust or misplaced expectations regarding moral and ethical considerations.\n",
      "\n",
      "4. **Ethics and Accountability**: Cultural narratives also feed into the ethical discourse surrounding AI. As stories emerge about biased algorithms or unethical AI applications, public outrage often necessitates discussions around accountability, transparency, and fairness. These narratives crystallize into frameworks that guide ethical considerations in AI deployment, impacting how companies and governments approach technology development and regulation.\n",
      "\n",
      "5. **Empowerment vs. Disempowerment**: Narratives can also influence perceptions about who benefits from AI technology. Stories emphasizing worker displacement can create a sense of disempowerment, while those focused on technology enhancing human capabilities can foster feelings of empowerment. The foregrounding of these narratives can lead to movement-building around equitable access to technology and political advocacy for responsible AI deployment.\n",
      "\n",
      "As AI technology continues to evolve, these cultural narratives may shift in several ways:\n",
      "\n",
      "1. **Integration of AI into Daily Life**: As AI becomes more embedded in everyday applications (like virtual assistants, health diagnostics, etc.), narratives may evolve to reflect a more normalized view of AI, focusing on its benefits and challenges within specific contexts rather than general existential threats.\n",
      "\n",
      "2. **Public Engagement and Education**: Increased education about AI might shift narratives towards informed discussions about its capabilities and limitations, dispelling myths and fostering a more nuanced understanding that incorporates a broad spectrum of views.\n",
      "\n",
      "3. **Global Perspectives**: Cultural narratives surrounding AI will also likely diversify as non-Western perspectives gain prominence. Different cultural contexts may lead to varied interpretations of AI’s role, fostering a deeper discourse on ethics that incorporates manifold viewpoints.\n",
      "\n",
      "4. **Regulatory Developments**: As ethical considerations grow more pressing, narratives around AI might increasingly focus on governance, regulation, and the role of international cooperation in creating standards that address public concerns while fostering innovation.\n",
      "\n",
      "5. **Narratives of Collaboration**: As human-AI collaboration becomes more standard in workplaces and broader society, cultural narratives might shift towards those that emphasize partnership and augmentation rather than replacement and fear.\n",
      "\n",
      "In conclusion, the interplay between cultural narratives and AI will continue to evolve. The direction of this evolution will depend on societal experiences with AI technologies, shifting fears, aspirations, and the collective decisions made regarding the ethical frameworks that guide their development and deployment.\n",
      "\n",
      "# Response from competitor 2\n",
      "\n",
      "# Cultural Narratives and AI Perception\n",
      "\n",
      "Cultural narratives about AI significantly shape public perception and ethical frameworks through several mechanisms:\n",
      "\n",
      "**Media Influence**: Science fiction portrayals—from utopian visions like Star Trek's benevolent AI to dystopian warnings in works like \"The Terminator\" or \"Ex Machina\"—create powerful mental frameworks that people apply to real AI developments.\n",
      "\n",
      "**Technological Determinism**: Many narratives present AI advancement as inevitable and autonomous, potentially undermining discussions about human agency in technology governance.\n",
      "\n",
      "**Anthropomorphism**: Our tendency to attribute human qualities to AI systems affects how we conceptualize their capabilities, rights, and potential dangers.\n",
      "\n",
      "**Historical Analogies**: Comparisons to past technological revolutions (industrial, nuclear, digital) frame expectations about AI's societal impact.\n",
      "\n",
      "**Cultural Variations**: Western narratives often emphasize individual autonomy and control, while some Eastern traditions may be more accepting of interdependence with technological systems.\n",
      "\n",
      "## Evolution of AI Narratives\n",
      "\n",
      "As AI technology advances, these narratives will likely evolve through:\n",
      "\n",
      "1. Increasing nuance as public experience with actual AI systems tempers both utopian and dystopian extremes\n",
      "\n",
      "2. Greater focus on distributional effects rather than existential questions\n",
      "\n",
      "3. Development of new metaphors beyond human intelligence to describe AI capabilities\n",
      "\n",
      "4. Integration of diverse cultural perspectives as AI development globalizes\n",
      "\n",
      "5. Emergence of narratives addressing human-AI collaboration rather than competition\n",
      "\n",
      "These evolving narratives will significantly influence which ethical frameworks gain prominence in AI governance discussions.\n",
      "\n",
      "# Response from competitor 3\n",
      "\n",
      "The cultural narratives surrounding artificial intelligence (AI) have a significant impact on public perception and ethical considerations of its deployment. These narratives shape how people think about AI, its potential benefits and risks, and the role it should play in society. Here are some ways cultural narratives influence public perception and ethical considerations of AI, and how they might evolve as AI technology advances:\n",
      "\n",
      "**Current cultural narratives:**\n",
      "\n",
      "1. **The Terminator narrative**: This narrative, popularized by the movie franchise, portrays AI as a potential existential threat to humanity. It fuels concerns about AI becoming uncontrollable, autonomous, and hostile.\n",
      "2. **The utopian narrative**: This narrative depicts AI as a solution to many of humanity's problems, such as disease, poverty, and climate change. It emphasizes AI's potential to improve human life and create a better future.\n",
      "3. **The job displacement narrative**: This narrative focuses on the potential negative impact of AI on employment, highlighting the risk of widespread job loss and economic disruption.\n",
      "4. **The surveillance state narrative**: This narrative raises concerns about AI-powered surveillance and the potential erosion of individual privacy and civil liberties.\n",
      "\n",
      "**Influence on public perception:**\n",
      "\n",
      "1. **Fear and mistrust**: The Terminator narrative contributes to public fear and mistrust of AI, leading to concerns about AI's potential risks and unintended consequences.\n",
      "2. **Overemphasis on benefits**: The utopian narrative can create unrealistic expectations about AI's potential benefits, leading to disappointment or disillusionment if these expectations are not met.\n",
      "3. **Job insecurity**: The job displacement narrative fuels anxiety about the impact of AI on employment, potentially leading to resistance to AI adoption.\n",
      "4. **Privacy concerns**: The surveillance state narrative highlights the importance of protecting individual privacy and civil liberties in the face of AI-powered surveillance.\n",
      "\n",
      "**Influence on ethical considerations:**\n",
      "\n",
      "1. **Value alignment**: The cultural narratives surrounding AI influence how we think about aligning AI systems with human values, such as fairness, transparency, and accountability.\n",
      "2. **Responsibility and accountability**: The narratives shape our understanding of who is responsible for AI systems' actions and decisions, and how to hold them accountable.\n",
      "3. **Data governance**: The surveillance state narrative highlights the need for robust data governance frameworks to protect individual privacy and prevent AI-powered surveillance.\n",
      "4. **Transparency and explainability**: The cultural narratives surrounding AI influence the importance we place on transparency and explainability in AI systems, particularly in high-stakes applications like healthcare and finance.\n",
      "\n",
      "**Evolution of cultural narratives:**\n",
      "\n",
      "As AI technology advances, the cultural narratives surrounding AI are likely to evolve in response to new developments and challenges. Here are some potential trends:\n",
      "\n",
      "1. **Increased nuance**: As AI becomes more ubiquitous, the cultural narratives surrounding AI may become more nuanced, recognizing both the benefits and risks of AI.\n",
      "2. **Shift from fear to fascination**: As AI becomes more integrated into daily life, the public may become more fascinated by AI's potential to improve human life, rather than fearful of its risks.\n",
      "3. **Growing emphasis on human-AI collaboration**: The cultural narratives surrounding AI may shift to emphasize the potential for human-AI collaboration, highlighting the benefits of augmenting human capabilities with AI.\n",
      "4. **Rising concerns about AI bias and fairness**: As AI becomes more pervasive, concerns about AI bias and fairness may become more prominent, leading to increased emphasis on developing and deploying fair and transparent AI systems.\n",
      "\n",
      "Ultimately, the cultural narratives surrounding AI will continue to shape public perception and ethical considerations of AI deployment. As AI technology advances, it is essential to engage in ongoing discussions about the implications of AI and its potential impact on society, ensuring that the development and deployment of AI align with human values and promote a better future for all.\n",
      "\n",
      "\n"
     ]
    }
   ],
   "source": [
    "print(together)"
   ]
  },
  {
   "cell_type": "code",
   "execution_count": 61,
   "metadata": {},
   "outputs": [],
   "source": [
    "judge = f\"\"\"You are judging a competition between {len(competitors)} competitors.\n",
    "Each model has been given this question:\n",
    "\n",
    "{question}\n",
    "\n",
    "Your job is to evaluate each response for clarity and strength of argument, and rank them in order of best to worst.\n",
    "Respond with JSON, and only JSON, with the following format:\n",
    "{{\"results\": [\"best competitor number\", \"second best competitor number\", \"third best competitor number\", ...]}}\n",
    "\n",
    "Here are the responses from each competitor:\n",
    "\n",
    "{together}\n",
    "\n",
    "Now respond with the JSON with the ranked order of the competitors, nothing else. Do not include markdown formatting or code blocks.\"\"\"\n"
   ]
  },
  {
   "cell_type": "code",
   "execution_count": 62,
   "metadata": {},
   "outputs": [
    {
     "name": "stdout",
     "output_type": "stream",
     "text": [
      "You are judging a competition between 3 competitors.\n",
      "Each model has been given this question:\n",
      "\n",
      "In what ways do the cultural narratives surrounding artificial intelligence influence public perception and ethical considerations of its deployment, and how might these narratives evolve as AI technology continues to advance?\n",
      "\n",
      "Your job is to evaluate each response for clarity and strength of argument, and rank them in order of best to worst.\n",
      "Respond with JSON, and only JSON, with the following format:\n",
      "{\"results\": [\"best competitor number\", \"second best competitor number\", \"third best competitor number\", ...]}\n",
      "\n",
      "Here are the responses from each competitor:\n",
      "\n",
      "# Response from competitor 1\n",
      "\n",
      "The cultural narratives surrounding artificial intelligence (AI) significantly influence public perception and ethical considerations in several ways:\n",
      "\n",
      "1. **Fear and Optimism**: Narratives often oscillate between dystopian and utopian views of AI. Dystopian portrayals, seen in films like \"Blade Runner\" or \"The Matrix,\" instill fears of loss of control, job displacement, and existential threats. Conversely, optimistic narratives depict AI as a tool for solving major global challenges, such as climate change and healthcare improvement. These contrasting views shape public attitudes—heightening skepticism and fear among some, while others may embrace AI with enthusiasm, believing it can lead to societal advancements.\n",
      "\n",
      "2. **Representation in Media**: The portrayal of AI in movies, books, and news affects people's understanding and trust in the technology. Sensationalized narratives can lead to misinformed fears or unrealistic expectations, impacting how individuals and organizations engage with AI technologies. Positive representations can contribute to greater acceptance and exploration of AI's potential benefits, while negative portrayals can spur calls for regulation and ethical scrutiny.\n",
      "\n",
      "3. **Cultural Myths and Metaphors**: The way AI is personified in language and culture—often compared to human intelligence or portrayed as a sentient being—can influence how people relate to it. This anthropomorphism can result in both overestimating AI's capabilities and projecting human-like qualities onto machines, leading to mistrust or misplaced expectations regarding moral and ethical considerations.\n",
      "\n",
      "4. **Ethics and Accountability**: Cultural narratives also feed into the ethical discourse surrounding AI. As stories emerge about biased algorithms or unethical AI applications, public outrage often necessitates discussions around accountability, transparency, and fairness. These narratives crystallize into frameworks that guide ethical considerations in AI deployment, impacting how companies and governments approach technology development and regulation.\n",
      "\n",
      "5. **Empowerment vs. Disempowerment**: Narratives can also influence perceptions about who benefits from AI technology. Stories emphasizing worker displacement can create a sense of disempowerment, while those focused on technology enhancing human capabilities can foster feelings of empowerment. The foregrounding of these narratives can lead to movement-building around equitable access to technology and political advocacy for responsible AI deployment.\n",
      "\n",
      "As AI technology continues to evolve, these cultural narratives may shift in several ways:\n",
      "\n",
      "1. **Integration of AI into Daily Life**: As AI becomes more embedded in everyday applications (like virtual assistants, health diagnostics, etc.), narratives may evolve to reflect a more normalized view of AI, focusing on its benefits and challenges within specific contexts rather than general existential threats.\n",
      "\n",
      "2. **Public Engagement and Education**: Increased education about AI might shift narratives towards informed discussions about its capabilities and limitations, dispelling myths and fostering a more nuanced understanding that incorporates a broad spectrum of views.\n",
      "\n",
      "3. **Global Perspectives**: Cultural narratives surrounding AI will also likely diversify as non-Western perspectives gain prominence. Different cultural contexts may lead to varied interpretations of AI’s role, fostering a deeper discourse on ethics that incorporates manifold viewpoints.\n",
      "\n",
      "4. **Regulatory Developments**: As ethical considerations grow more pressing, narratives around AI might increasingly focus on governance, regulation, and the role of international cooperation in creating standards that address public concerns while fostering innovation.\n",
      "\n",
      "5. **Narratives of Collaboration**: As human-AI collaboration becomes more standard in workplaces and broader society, cultural narratives might shift towards those that emphasize partnership and augmentation rather than replacement and fear.\n",
      "\n",
      "In conclusion, the interplay between cultural narratives and AI will continue to evolve. The direction of this evolution will depend on societal experiences with AI technologies, shifting fears, aspirations, and the collective decisions made regarding the ethical frameworks that guide their development and deployment.\n",
      "\n",
      "# Response from competitor 2\n",
      "\n",
      "# Cultural Narratives and AI Perception\n",
      "\n",
      "Cultural narratives about AI significantly shape public perception and ethical frameworks through several mechanisms:\n",
      "\n",
      "**Media Influence**: Science fiction portrayals—from utopian visions like Star Trek's benevolent AI to dystopian warnings in works like \"The Terminator\" or \"Ex Machina\"—create powerful mental frameworks that people apply to real AI developments.\n",
      "\n",
      "**Technological Determinism**: Many narratives present AI advancement as inevitable and autonomous, potentially undermining discussions about human agency in technology governance.\n",
      "\n",
      "**Anthropomorphism**: Our tendency to attribute human qualities to AI systems affects how we conceptualize their capabilities, rights, and potential dangers.\n",
      "\n",
      "**Historical Analogies**: Comparisons to past technological revolutions (industrial, nuclear, digital) frame expectations about AI's societal impact.\n",
      "\n",
      "**Cultural Variations**: Western narratives often emphasize individual autonomy and control, while some Eastern traditions may be more accepting of interdependence with technological systems.\n",
      "\n",
      "## Evolution of AI Narratives\n",
      "\n",
      "As AI technology advances, these narratives will likely evolve through:\n",
      "\n",
      "1. Increasing nuance as public experience with actual AI systems tempers both utopian and dystopian extremes\n",
      "\n",
      "2. Greater focus on distributional effects rather than existential questions\n",
      "\n",
      "3. Development of new metaphors beyond human intelligence to describe AI capabilities\n",
      "\n",
      "4. Integration of diverse cultural perspectives as AI development globalizes\n",
      "\n",
      "5. Emergence of narratives addressing human-AI collaboration rather than competition\n",
      "\n",
      "These evolving narratives will significantly influence which ethical frameworks gain prominence in AI governance discussions.\n",
      "\n",
      "# Response from competitor 3\n",
      "\n",
      "The cultural narratives surrounding artificial intelligence (AI) have a significant impact on public perception and ethical considerations of its deployment. These narratives shape how people think about AI, its potential benefits and risks, and the role it should play in society. Here are some ways cultural narratives influence public perception and ethical considerations of AI, and how they might evolve as AI technology advances:\n",
      "\n",
      "**Current cultural narratives:**\n",
      "\n",
      "1. **The Terminator narrative**: This narrative, popularized by the movie franchise, portrays AI as a potential existential threat to humanity. It fuels concerns about AI becoming uncontrollable, autonomous, and hostile.\n",
      "2. **The utopian narrative**: This narrative depicts AI as a solution to many of humanity's problems, such as disease, poverty, and climate change. It emphasizes AI's potential to improve human life and create a better future.\n",
      "3. **The job displacement narrative**: This narrative focuses on the potential negative impact of AI on employment, highlighting the risk of widespread job loss and economic disruption.\n",
      "4. **The surveillance state narrative**: This narrative raises concerns about AI-powered surveillance and the potential erosion of individual privacy and civil liberties.\n",
      "\n",
      "**Influence on public perception:**\n",
      "\n",
      "1. **Fear and mistrust**: The Terminator narrative contributes to public fear and mistrust of AI, leading to concerns about AI's potential risks and unintended consequences.\n",
      "2. **Overemphasis on benefits**: The utopian narrative can create unrealistic expectations about AI's potential benefits, leading to disappointment or disillusionment if these expectations are not met.\n",
      "3. **Job insecurity**: The job displacement narrative fuels anxiety about the impact of AI on employment, potentially leading to resistance to AI adoption.\n",
      "4. **Privacy concerns**: The surveillance state narrative highlights the importance of protecting individual privacy and civil liberties in the face of AI-powered surveillance.\n",
      "\n",
      "**Influence on ethical considerations:**\n",
      "\n",
      "1. **Value alignment**: The cultural narratives surrounding AI influence how we think about aligning AI systems with human values, such as fairness, transparency, and accountability.\n",
      "2. **Responsibility and accountability**: The narratives shape our understanding of who is responsible for AI systems' actions and decisions, and how to hold them accountable.\n",
      "3. **Data governance**: The surveillance state narrative highlights the need for robust data governance frameworks to protect individual privacy and prevent AI-powered surveillance.\n",
      "4. **Transparency and explainability**: The cultural narratives surrounding AI influence the importance we place on transparency and explainability in AI systems, particularly in high-stakes applications like healthcare and finance.\n",
      "\n",
      "**Evolution of cultural narratives:**\n",
      "\n",
      "As AI technology advances, the cultural narratives surrounding AI are likely to evolve in response to new developments and challenges. Here are some potential trends:\n",
      "\n",
      "1. **Increased nuance**: As AI becomes more ubiquitous, the cultural narratives surrounding AI may become more nuanced, recognizing both the benefits and risks of AI.\n",
      "2. **Shift from fear to fascination**: As AI becomes more integrated into daily life, the public may become more fascinated by AI's potential to improve human life, rather than fearful of its risks.\n",
      "3. **Growing emphasis on human-AI collaboration**: The cultural narratives surrounding AI may shift to emphasize the potential for human-AI collaboration, highlighting the benefits of augmenting human capabilities with AI.\n",
      "4. **Rising concerns about AI bias and fairness**: As AI becomes more pervasive, concerns about AI bias and fairness may become more prominent, leading to increased emphasis on developing and deploying fair and transparent AI systems.\n",
      "\n",
      "Ultimately, the cultural narratives surrounding AI will continue to shape public perception and ethical considerations of AI deployment. As AI technology advances, it is essential to engage in ongoing discussions about the implications of AI and its potential impact on society, ensuring that the development and deployment of AI align with human values and promote a better future for all.\n",
      "\n",
      "\n",
      "\n",
      "Now respond with the JSON with the ranked order of the competitors, nothing else. Do not include markdown formatting or code blocks.\n"
     ]
    }
   ],
   "source": [
    "print(judge)"
   ]
  },
  {
   "cell_type": "code",
   "execution_count": 63,
   "metadata": {},
   "outputs": [],
   "source": [
    "judge_messages = [{\"role\": \"user\", \"content\": judge}]"
   ]
  },
  {
   "cell_type": "code",
   "execution_count": 64,
   "metadata": {},
   "outputs": [
    {
     "name": "stdout",
     "output_type": "stream",
     "text": [
      "{\"results\": [\"1\", \"2\", \"3\"]}\n"
     ]
    }
   ],
   "source": [
    "# Judgement time!\n",
    "\n",
    "openai = OpenAI()\n",
    "response = openai.chat.completions.create(\n",
    "    model=\"o3-mini\",\n",
    "    messages=judge_messages,\n",
    ")\n",
    "results = response.choices[0].message.content\n",
    "print(results)\n"
   ]
  },
  {
   "cell_type": "code",
   "execution_count": 65,
   "metadata": {},
   "outputs": [
    {
     "name": "stdout",
     "output_type": "stream",
     "text": [
      "Rank 1: gpt-4o-mini\n",
      "Rank 2: claude-3-7-sonnet-latest\n",
      "Rank 3: llama-3.3-70b-versatile\n"
     ]
    }
   ],
   "source": [
    "# OK let's turn this into results!\n",
    "\n",
    "results_dict = json.loads(results)\n",
    "ranks = results_dict[\"results\"]\n",
    "for index, result in enumerate(ranks):\n",
    "    competitor = competitors[int(result)-1]\n",
    "    print(f\"Rank {index+1}: {competitor}\")"
   ]
  },
  {
   "cell_type": "code",
   "execution_count": 70,
   "metadata": {},
   "outputs": [
    {
     "name": "stdout",
     "output_type": "stream",
     "text": [
      "You are an expert evaluator reviewing responses from 3 AI models.\n",
      "Each model was given this question:\n",
      "\n",
      "In what ways do the cultural narratives surrounding artificial intelligence influence public perception and ethical considerations of its deployment, and how might these narratives evolve as AI technology continues to advance?\n",
      "\n",
      "Your task is to:\n",
      "1. Analyze each response for:\n",
      "   - Clarity of explanation\n",
      "   - Logical reasoning\n",
      "   - Accuracy of information\n",
      "   - Relevance to the question\n",
      "   - Overall effectiveness\n",
      "\n",
      "2. For each response, provide specific feedback including:\n",
      "   - Key strengths\n",
      "   - Areas for improvement \n",
      "   - Suggestions for enhancement\n",
      "   - A score from 1-10\n",
      "\n",
      "3. Rank the responses from best to worst and explain your ranking rationale\n",
      "\n",
      "4. Return your evaluation in this JSON format:\n",
      "{\n",
      "    \"feedback\": [\n",
      "        {\n",
      "            \"competitor\": \"1\",\n",
      "            \"score\": 8,\n",
      "            \"strengths\": [\"...\"],\n",
      "            \"improvements\": [\"...\"],\n",
      "            \"suggestions\": [\"...\"]\n",
      "        },\n",
      "        ...\n",
      "    ],\n",
      "    \"ranking_rationale\": \"explanation of ranking decisions\"\n",
      "}\n",
      "\n",
      "Here are the responses to evaluate:\n",
      "\n",
      "# Response from competitor 1\n",
      "\n",
      "The cultural narratives surrounding artificial intelligence (AI) significantly influence public perception and ethical considerations in several ways:\n",
      "\n",
      "1. **Fear and Optimism**: Narratives often oscillate between dystopian and utopian views of AI. Dystopian portrayals, seen in films like \"Blade Runner\" or \"The Matrix,\" instill fears of loss of control, job displacement, and existential threats. Conversely, optimistic narratives depict AI as a tool for solving major global challenges, such as climate change and healthcare improvement. These contrasting views shape public attitudes—heightening skepticism and fear among some, while others may embrace AI with enthusiasm, believing it can lead to societal advancements.\n",
      "\n",
      "2. **Representation in Media**: The portrayal of AI in movies, books, and news affects people's understanding and trust in the technology. Sensationalized narratives can lead to misinformed fears or unrealistic expectations, impacting how individuals and organizations engage with AI technologies. Positive representations can contribute to greater acceptance and exploration of AI's potential benefits, while negative portrayals can spur calls for regulation and ethical scrutiny.\n",
      "\n",
      "3. **Cultural Myths and Metaphors**: The way AI is personified in language and culture—often compared to human intelligence or portrayed as a sentient being—can influence how people relate to it. This anthropomorphism can result in both overestimating AI's capabilities and projecting human-like qualities onto machines, leading to mistrust or misplaced expectations regarding moral and ethical considerations.\n",
      "\n",
      "4. **Ethics and Accountability**: Cultural narratives also feed into the ethical discourse surrounding AI. As stories emerge about biased algorithms or unethical AI applications, public outrage often necessitates discussions around accountability, transparency, and fairness. These narratives crystallize into frameworks that guide ethical considerations in AI deployment, impacting how companies and governments approach technology development and regulation.\n",
      "\n",
      "5. **Empowerment vs. Disempowerment**: Narratives can also influence perceptions about who benefits from AI technology. Stories emphasizing worker displacement can create a sense of disempowerment, while those focused on technology enhancing human capabilities can foster feelings of empowerment. The foregrounding of these narratives can lead to movement-building around equitable access to technology and political advocacy for responsible AI deployment.\n",
      "\n",
      "As AI technology continues to evolve, these cultural narratives may shift in several ways:\n",
      "\n",
      "1. **Integration of AI into Daily Life**: As AI becomes more embedded in everyday applications (like virtual assistants, health diagnostics, etc.), narratives may evolve to reflect a more normalized view of AI, focusing on its benefits and challenges within specific contexts rather than general existential threats.\n",
      "\n",
      "2. **Public Engagement and Education**: Increased education about AI might shift narratives towards informed discussions about its capabilities and limitations, dispelling myths and fostering a more nuanced understanding that incorporates a broad spectrum of views.\n",
      "\n",
      "3. **Global Perspectives**: Cultural narratives surrounding AI will also likely diversify as non-Western perspectives gain prominence. Different cultural contexts may lead to varied interpretations of AI’s role, fostering a deeper discourse on ethics that incorporates manifold viewpoints.\n",
      "\n",
      "4. **Regulatory Developments**: As ethical considerations grow more pressing, narratives around AI might increasingly focus on governance, regulation, and the role of international cooperation in creating standards that address public concerns while fostering innovation.\n",
      "\n",
      "5. **Narratives of Collaboration**: As human-AI collaboration becomes more standard in workplaces and broader society, cultural narratives might shift towards those that emphasize partnership and augmentation rather than replacement and fear.\n",
      "\n",
      "In conclusion, the interplay between cultural narratives and AI will continue to evolve. The direction of this evolution will depend on societal experiences with AI technologies, shifting fears, aspirations, and the collective decisions made regarding the ethical frameworks that guide their development and deployment.\n",
      "\n",
      "# Response from competitor 2\n",
      "\n",
      "# Cultural Narratives and AI Perception\n",
      "\n",
      "Cultural narratives about AI significantly shape public perception and ethical frameworks through several mechanisms:\n",
      "\n",
      "**Media Influence**: Science fiction portrayals—from utopian visions like Star Trek's benevolent AI to dystopian warnings in works like \"The Terminator\" or \"Ex Machina\"—create powerful mental frameworks that people apply to real AI developments.\n",
      "\n",
      "**Technological Determinism**: Many narratives present AI advancement as inevitable and autonomous, potentially undermining discussions about human agency in technology governance.\n",
      "\n",
      "**Anthropomorphism**: Our tendency to attribute human qualities to AI systems affects how we conceptualize their capabilities, rights, and potential dangers.\n",
      "\n",
      "**Historical Analogies**: Comparisons to past technological revolutions (industrial, nuclear, digital) frame expectations about AI's societal impact.\n",
      "\n",
      "**Cultural Variations**: Western narratives often emphasize individual autonomy and control, while some Eastern traditions may be more accepting of interdependence with technological systems.\n",
      "\n",
      "## Evolution of AI Narratives\n",
      "\n",
      "As AI technology advances, these narratives will likely evolve through:\n",
      "\n",
      "1. Increasing nuance as public experience with actual AI systems tempers both utopian and dystopian extremes\n",
      "\n",
      "2. Greater focus on distributional effects rather than existential questions\n",
      "\n",
      "3. Development of new metaphors beyond human intelligence to describe AI capabilities\n",
      "\n",
      "4. Integration of diverse cultural perspectives as AI development globalizes\n",
      "\n",
      "5. Emergence of narratives addressing human-AI collaboration rather than competition\n",
      "\n",
      "These evolving narratives will significantly influence which ethical frameworks gain prominence in AI governance discussions.\n",
      "\n",
      "# Response from competitor 3\n",
      "\n",
      "The cultural narratives surrounding artificial intelligence (AI) have a significant impact on public perception and ethical considerations of its deployment. These narratives shape how people think about AI, its potential benefits and risks, and the role it should play in society. Here are some ways cultural narratives influence public perception and ethical considerations of AI, and how they might evolve as AI technology advances:\n",
      "\n",
      "**Current cultural narratives:**\n",
      "\n",
      "1. **The Terminator narrative**: This narrative, popularized by the movie franchise, portrays AI as a potential existential threat to humanity. It fuels concerns about AI becoming uncontrollable, autonomous, and hostile.\n",
      "2. **The utopian narrative**: This narrative depicts AI as a solution to many of humanity's problems, such as disease, poverty, and climate change. It emphasizes AI's potential to improve human life and create a better future.\n",
      "3. **The job displacement narrative**: This narrative focuses on the potential negative impact of AI on employment, highlighting the risk of widespread job loss and economic disruption.\n",
      "4. **The surveillance state narrative**: This narrative raises concerns about AI-powered surveillance and the potential erosion of individual privacy and civil liberties.\n",
      "\n",
      "**Influence on public perception:**\n",
      "\n",
      "1. **Fear and mistrust**: The Terminator narrative contributes to public fear and mistrust of AI, leading to concerns about AI's potential risks and unintended consequences.\n",
      "2. **Overemphasis on benefits**: The utopian narrative can create unrealistic expectations about AI's potential benefits, leading to disappointment or disillusionment if these expectations are not met.\n",
      "3. **Job insecurity**: The job displacement narrative fuels anxiety about the impact of AI on employment, potentially leading to resistance to AI adoption.\n",
      "4. **Privacy concerns**: The surveillance state narrative highlights the importance of protecting individual privacy and civil liberties in the face of AI-powered surveillance.\n",
      "\n",
      "**Influence on ethical considerations:**\n",
      "\n",
      "1. **Value alignment**: The cultural narratives surrounding AI influence how we think about aligning AI systems with human values, such as fairness, transparency, and accountability.\n",
      "2. **Responsibility and accountability**: The narratives shape our understanding of who is responsible for AI systems' actions and decisions, and how to hold them accountable.\n",
      "3. **Data governance**: The surveillance state narrative highlights the need for robust data governance frameworks to protect individual privacy and prevent AI-powered surveillance.\n",
      "4. **Transparency and explainability**: The cultural narratives surrounding AI influence the importance we place on transparency and explainability in AI systems, particularly in high-stakes applications like healthcare and finance.\n",
      "\n",
      "**Evolution of cultural narratives:**\n",
      "\n",
      "As AI technology advances, the cultural narratives surrounding AI are likely to evolve in response to new developments and challenges. Here are some potential trends:\n",
      "\n",
      "1. **Increased nuance**: As AI becomes more ubiquitous, the cultural narratives surrounding AI may become more nuanced, recognizing both the benefits and risks of AI.\n",
      "2. **Shift from fear to fascination**: As AI becomes more integrated into daily life, the public may become more fascinated by AI's potential to improve human life, rather than fearful of its risks.\n",
      "3. **Growing emphasis on human-AI collaboration**: The cultural narratives surrounding AI may shift to emphasize the potential for human-AI collaboration, highlighting the benefits of augmenting human capabilities with AI.\n",
      "4. **Rising concerns about AI bias and fairness**: As AI becomes more pervasive, concerns about AI bias and fairness may become more prominent, leading to increased emphasis on developing and deploying fair and transparent AI systems.\n",
      "\n",
      "Ultimately, the cultural narratives surrounding AI will continue to shape public perception and ethical considerations of AI deployment. As AI technology advances, it is essential to engage in ongoing discussions about the implications of AI and its potential impact on society, ensuring that the development and deployment of AI align with human values and promote a better future for all.\n",
      "\n",
      "\n",
      "\n",
      "Provide only the JSON response, no additional text or formatting.\n"
     ]
    }
   ],
   "source": [
    "feedback = f\"\"\"You are an expert evaluator reviewing responses from {len(competitors)} AI models.\n",
    "Each model was given this question:\n",
    "\n",
    "{question}\n",
    "\n",
    "Your task is to:\n",
    "1. Analyze each response for:\n",
    "   - Clarity of explanation\n",
    "   - Logical reasoning\n",
    "   - Accuracy of information\n",
    "   - Relevance to the question\n",
    "   - Overall effectiveness\n",
    "\n",
    "2. For each response, provide specific feedback including:\n",
    "   - Key strengths\n",
    "   - Areas for improvement \n",
    "   - Suggestions for enhancement\n",
    "   - A score from 1-10\n",
    "\n",
    "3. Rank the responses from best to worst and explain your ranking rationale\n",
    "\n",
    "4. Return your evaluation in this JSON format:\n",
    "{{\n",
    "    \"feedback\": [\n",
    "        {{\n",
    "            \"competitor\": \"1\",\n",
    "            \"score\": 8,\n",
    "            \"strengths\": [\"...\"],\n",
    "            \"improvements\": [\"...\"],\n",
    "            \"suggestions\": [\"...\"]\n",
    "        }},\n",
    "        ...\n",
    "    ],\n",
    "    \"ranking_rationale\": \"explanation of ranking decisions\"\n",
    "}}\n",
    "\n",
    "Here are the responses to evaluate:\n",
    "\n",
    "{together}\n",
    "\n",
    "Provide only the JSON response, no additional text or formatting.\"\"\"\n",
    "\n",
    "print(feedback)\n"
   ]
  },
  {
   "cell_type": "code",
   "execution_count": 67,
   "metadata": {},
   "outputs": [],
   "source": [
    "feedback_messages = [{\"role\": \"user\", \"content\": feedback}]"
   ]
  },
  {
   "cell_type": "code",
   "execution_count": 71,
   "metadata": {},
   "outputs": [
    {
     "name": "stdout",
     "output_type": "stream",
     "text": [
      "Rank 1: gpt-4o-mini\n",
      "Rank 2: llama-3.3-70b-versatile\n",
      "Rank 3: claude-3-7-sonnet-latest\n"
     ]
    }
   ],
   "source": [
    "\n",
    "openai = OpenAI()\n",
    "response = openai.chat.completions.create(\n",
    "    model=\"o3-mini\",\n",
    "    messages=feedback_messages,\n",
    ")\n",
    "results = response.choices[0].message.content\n",
    "\n",
    "results_dict = json.loads(results)\n",
    "ranks = results_dict[\"feedback\"]\n"
   ]
  },
  {
   "cell_type": "code",
   "execution_count": 75,
   "metadata": {},
   "outputs": [
    {
     "name": "stdout",
     "output_type": "stream",
     "text": [
      "Rank 1: gpt-4o-mini 9 ['Provides a comprehensive and well-structured analysis.', 'Offers detailed examples and multiple dimensions of cultural narratives.', 'Clearly explains potential future evolutions with thoughtful insights and real-life applications.'] ['Could incorporate even more comparative analysis between diverse cultural settings.', 'Might add real-world case studies or recent developments in public discourse for additional relevance.'] ['Consider integrating recent policy debates or media examples to further ground the discussion.', 'Enhance global perspective by highlighting more non-Western viewpoints explicitly.']\n",
      "Rank 2: llama-3.3-70b-versatile 8.5 ['Clearly identifies and categorizes multiple cultural narratives influencing AI perception.', 'Provides concrete examples (like Terminator and job displacement narratives) that readers can readily understand.', 'Outlines the evolution of these narratives in a forward-looking manner.'] ['Some points feel repetitive; consolidating overlapping ideas could improve conciseness.', 'The analysis could benefit from deeper exploration of ethical frameworks and accountability mechanisms.'] ['Streamline the narrative sections to avoid redundancy while maintaining thoroughness.', 'Add deeper discussion on how ethical guidelines might practically change as narratives evolve.']\n",
      "Rank 3: claude-3-7-sonnet-latest 8 ['Offers a clear and succinct overview of how cultural narratives impact public perception.', 'Touches on several key mechanisms such as media influence, technological determinism, and anthropomorphism.', 'Discusses the evolution of narratives in a concise bullet format.'] ['Lacks the depth and comprehensive elaboration found in competitors 1 and 3.', 'More detailed examples and case studies could strengthen the analysis.'] ['Expand on each point with more detail and contextual evidence.', 'Integrate additional examples to bolster the discussion, especially on ethical implications.']\n"
     ]
    }
   ],
   "source": [
    "for index, result in enumerate(ranks):\n",
    "    competitor = competitors[int(result[\"competitor\"])-1]\n",
    "    print(f\"Rank {index+1}: {competitor} {result['score']} {result['strengths']} {result['improvements']} {result['suggestions']}\")\n",
    "    "
   ]
  },
  {
   "cell_type": "markdown",
   "metadata": {},
   "source": [
    "<table style=\"margin: 0; text-align: left; width:100%\">\n",
    "    <tr>\n",
    "        <td style=\"width: 150px; height: 150px; vertical-align: middle;\">\n",
    "            <img src=\"../assets/exercise.png\" width=\"150\" height=\"150\" style=\"display: block;\" />\n",
    "        </td>\n",
    "        <td>\n",
    "            <h2 style=\"color:#ff7800;\">Exercise</h2>\n",
    "            <span style=\"color:#ff7800;\">Which pattern(s) did this use? Try updating this to add another Agentic design pattern.\n",
    "            </span>\n",
    "        </td>\n",
    "    </tr>\n",
    "</table>"
   ]
  },
  {
   "cell_type": "markdown",
   "metadata": {},
   "source": [
    "<table style=\"margin: 0; text-align: left; width:100%\">\n",
    "    <tr>\n",
    "        <td style=\"width: 150px; height: 150px; vertical-align: middle;\">\n",
    "            <img src=\"../assets/business.png\" width=\"150\" height=\"150\" style=\"display: block;\" />\n",
    "        </td>\n",
    "        <td>\n",
    "            <h2 style=\"color:#00bfff;\">Commercial implications</h2>\n",
    "            <span style=\"color:#00bfff;\">These kinds of patterns - to send a task to multiple models, and evaluate results,\n",
    "            and common where you need to improve the quality of your LLM response. This approach can be universally applied\n",
    "            to business projects where accuracy is critical.\n",
    "            </span>\n",
    "        </td>\n",
    "    </tr>\n",
    "</table>"
   ]
  }
 ],
 "metadata": {
  "kernelspec": {
   "display_name": ".venv",
   "language": "python",
   "name": "python3"
  },
  "language_info": {
   "codemirror_mode": {
    "name": "ipython",
    "version": 3
   },
   "file_extension": ".py",
   "mimetype": "text/x-python",
   "name": "python",
   "nbconvert_exporter": "python",
   "pygments_lexer": "ipython3",
   "version": "3.12.2"
  }
 },
 "nbformat": 4,
 "nbformat_minor": 2
}
